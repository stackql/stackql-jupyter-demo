{
 "cells": [
  {
   "cell_type": "code",
   "execution_count": null,
   "metadata": {},
   "outputs": [],
   "source": [
    "%load_ext pystackql.magics"
   ]
  },
  {
   "cell_type": "code",
   "execution_count": null,
   "metadata": {},
   "outputs": [],
   "source": [
    "owner = 'stackql'"
   ]
  },
  {
   "cell_type": "code",
   "execution_count": null,
   "metadata": {},
   "outputs": [],
   "source": [
    "%%stackql\n",
    "SELECT *\n",
    "FROM github.repos.contributors\n",
    "where repo = 'stackql' AND owner = '$owner'"
   ]
  },
  {
   "cell_type": "code",
   "execution_count": null,
   "metadata": {},
   "outputs": [],
   "source": [
    "%%stackql\n",
    "SELECT DATE(JSON_EXTRACT(commit, '$$.author.date')) AS commit_date, count(*) AS num_commits\n",
    "FROM  github.repos.commits\n",
    "WHERE owner = '$owner' AND repo = 'stackql'\n",
    "GROUP BY DATE(JSON_EXTRACT(commit, '$$.author.date'))"
   ]
  },
  {
   "cell_type": "code",
   "execution_count": null,
   "metadata": {},
   "outputs": [],
   "source": [
    "stackql_df.plot(kind='line', title='Commit History', x='commit_date', y='num_commits')"
   ]
  },
  {
   "cell_type": "code",
   "execution_count": null,
   "metadata": {},
   "outputs": [],
   "source": [
    "since = '2022-07-01T00:00:00Z'\n",
    "until = '2023-06-30T23:59:59Z' "
   ]
  },
  {
   "cell_type": "code",
   "execution_count": null,
   "metadata": {},
   "outputs": [],
   "source": [
    "%%stackql\n",
    "SELECT SUBSTR(DATE(JSON_EXTRACT(commit, '$$.author.date')),1,7) AS commit_month, count(*) AS num_commits\n",
    "FROM  github.repos.commits \n",
    "WHERE since = '$since' and until = '$until'\n",
    "and owner = '$owner' AND repo = 'stackql'\n",
    "GROUP BY commit_month"
   ]
  },
  {
   "cell_type": "code",
   "execution_count": null,
   "metadata": {},
   "outputs": [],
   "source": [
    "import pandas as pd\n",
    "pd.set_option('display.max_colwidth', None)\n"
   ]
  },
  {
   "cell_type": "code",
   "execution_count": null,
   "metadata": {},
   "outputs": [],
   "source": [
    "%%stackql\n",
    "SELECT \n",
    "DATETIME(JSON_EXTRACT(commit, '$$.author.date'), '+11 hours') as commit_date,\n",
    "CASE strftime('%w', DATETIME(JSON_EXTRACT(commit, '$$.author.date'), '+11 hours'))\n",
    "WHEN '0' THEN 'Sunday'\n",
    "WHEN '1' THEN 'Monday'\n",
    "WHEN '2' THEN 'Tuesday'\n",
    "WHEN '3' THEN 'Wednesday'\n",
    "WHEN '4' THEN 'Thursday'\n",
    "WHEN '5' THEN 'Friday'\n",
    "WHEN '6' THEN 'Saturday'\n",
    "END AS day_of_week,\n",
    "JSON_EXTRACT(commit, '$$.message') as commit_message\n",
    "FROM  github.repos.commits \n",
    "WHERE since = '2023-01-01T00:00:00Z' and until = '2023-01-31T23:59:59Z'\n",
    "and owner = '$owner' AND repo = 'stackql'\n",
    "ORDER BY commit_date ASC"
   ]
  }
 ],
 "metadata": {
  "kernelspec": {
   "display_name": "Python 3.10.0 64-bit",
   "language": "python",
   "name": "python3"
  },
  "language_info": {
   "name": "python",
   "version": "3.10.0"
  },
  "orig_nbformat": 4,
  "vscode": {
   "interpreter": {
    "hash": "369f2c481f4da34e4445cda3fffd2e751bd1c4d706f27375911949ba6bb62e1c"
   }
  }
 },
 "nbformat": 4,
 "nbformat_minor": 2
}
