{
 "cells": [
  {
   "cell_type": "code",
   "execution_count": null,
   "metadata": {},
   "outputs": [],
   "source": [
    "import ipywidgets as widgets\n",
    "from IPython.display import display, Markdown, HTML, clear_output\n",
    "import plotly.express as px\n",
    "import pandas as pd\n",
    "import sys, datetime, base64, time, psycopg2\n",
    "sys.path.append('/jupyter/ext')\n",
    "import stackql\n",
    "from psycopg2.extras import RealDictCursor\n",
    "from psycopg2 import ProgrammingError\n",
    "\n",
    "conn = psycopg2.connect(\"dbname=stackql user=stackql host=localhost port=5444\")\n",
    "\n",
    "%load_ext stackql"
   ]
  },
  {
   "cell_type": "code",
   "execution_count": null,
   "metadata": {},
   "outputs": [],
   "source": [
    "owner = widgets.Text(\n",
    "    description='GitHub Owner',\n",
    "    disabled=False\n",
    ")\n",
    "\n",
    "repo = widgets.Text(\n",
    "    description='GitHub Repo',\n",
    "    disabled=False\n",
    ")\n",
    "\n",
    "sprint_number = widgets.IntSlider(\n",
    "    value=1,\n",
    "    min=1,\n",
    "    max=30,\n",
    "    step=1,\n",
    "    description='Sprint Number',\n",
    "    disabled=False,\n",
    "    continuous_update=False,\n",
    "    orientation='horizontal',\n",
    "    readout=True,\n",
    "    readout_format='d'\n",
    ")\n",
    "\n",
    "start_date = widgets.DatePicker(\n",
    "    description='Start Date',\n",
    "    disabled=False\n",
    ")\n",
    "\n",
    "end_date = widgets.DatePicker(\n",
    "    description='End Date',\n",
    "    disabled=False\n",
    ")\n",
    "\n",
    "display(sprint_number)\n",
    "display(start_date)\n",
    "display(end_date)\n",
    "display(owner)\n",
    "display(repo)"
   ]
  },
  {
   "cell_type": "code",
   "execution_count": null,
   "metadata": {},
   "outputs": [],
   "source": [
    "def print_overwrite(message):\n",
    "    clear_output(wait=True)\n",
    "    print(message)\n",
    "\n",
    "def print_overwrite(message):\n",
    "    clear_output(wait=True)\n",
    "    print(message)"
   ]
  },
  {
   "cell_type": "code",
   "execution_count": null,
   "metadata": {},
   "outputs": [],
   "source": [
    "# Function to create a downloadable CSV link\n",
    "def create_download_link(df, title=\"Download CSV file\", filename=\"data.csv\"):\n",
    "    csv = df.to_csv(index=False)\n",
    "    b64 = base64.b64encode(csv.encode())\n",
    "    payload = b64.decode()\n",
    "    html = f'<a download=\"{filename}\" href=\"data:text/csv;base64,{payload}\" target=\"_blank\">{title}</a>'\n",
    "    return HTML(html)"
   ]
  },
  {
   "cell_type": "code",
   "execution_count": null,
   "metadata": {},
   "outputs": [],
   "source": [
    "def run_stackql_queries(queries, debug=False, rate_limit_per_min=0):\n",
    "    start_time = time.time()\n",
    "    all_results = []\n",
    "    \n",
    "    # Calculate sleep time in seconds, but only if rate_limit_per_min > 0\n",
    "    sleep_time = 60 / rate_limit_per_min if rate_limit_per_min > 0 else 0\n",
    "\n",
    "    with conn.cursor(cursor_factory=RealDictCursor) as cur:\n",
    "        for query in queries:\n",
    "            if debug:\n",
    "                print_overwrite(f\"Executing: {query}...\")\n",
    "                \n",
    "            try:\n",
    "                cur.execute(query)\n",
    "                results = cur.fetchall()\n",
    "                \n",
    "                if results:  # check if the result is not empty\n",
    "                    all_results.extend(results)\n",
    "                    \n",
    "            except Exception as e:\n",
    "                if debug:\n",
    "                    print(f\"Error executing query: {str(e)}\")\n",
    "                else:                \n",
    "                    continue  # No results for this query, move on to the next one\n",
    "            \n",
    "            if sleep_time:\n",
    "                time.sleep(sleep_time)  # Delay to respect rate limit\n",
    "\n",
    "    df = pd.DataFrame(all_results)\n",
    "\n",
    "    number_of_rows = df.shape[0]\n",
    "    elapsed_time = round(time.time() - start_time)\n",
    "    \n",
    "    if debug:\n",
    "        print(f\"Found {number_of_rows} rows in {elapsed_time} seconds\")\n",
    "\n",
    "    return df"
   ]
  },
  {
   "cell_type": "code",
   "execution_count": null,
   "metadata": {},
   "outputs": [],
   "source": [
    "def commit_distribution(df):\n",
    "    fig = px.pie(df, names='author', values='commits', title='Distribution of Commits by Author')\n",
    "    fig.show()"
   ]
  },
  {
   "cell_type": "code",
   "execution_count": null,
   "metadata": {},
   "outputs": [],
   "source": [
    "def show_contributions(df):\n",
    "    fig = px.bar(df,\n",
    "             x='login',\n",
    "             y='contributions',\n",
    "             title='Contributions by User',\n",
    "             labels={'login': 'User Login', 'contributions': 'Number of Contributions'},\n",
    "             text='contributions')\n",
    "\n",
    "    fig.update_layout(xaxis_tickangle=-45)\n",
    "\n",
    "    fig.show()"
   ]
  }
 ],
 "metadata": {
  "language_info": {
   "name": "python"
  },
  "orig_nbformat": 4
 },
 "nbformat": 4,
 "nbformat_minor": 2
}
