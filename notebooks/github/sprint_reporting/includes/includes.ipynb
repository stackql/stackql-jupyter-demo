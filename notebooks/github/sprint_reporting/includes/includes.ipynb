{
 "cells": [
  {
   "cell_type": "code",
   "execution_count": null,
   "metadata": {},
   "outputs": [],
   "source": [
    "import ipywidgets as widgets\n",
    "from IPython.display import display, Markdown\n",
    "import sys\n",
    "sys.path.append('/jupyter/ext')\n",
    "import stackql\n",
    "%load_ext stackql"
   ]
  },
  {
   "cell_type": "code",
   "execution_count": null,
   "metadata": {},
   "outputs": [],
   "source": [
    "sprint_number = widgets.IntSlider(\n",
    "    value=1,\n",
    "    min=1,\n",
    "    max=10,\n",
    "    step=1,\n",
    "    description='Sprint Number',\n",
    "    disabled=False,\n",
    "    continuous_update=False,\n",
    "    orientation='horizontal',\n",
    "    readout=True,\n",
    "    readout_format='d'\n",
    ")\n",
    "\n",
    "start_date = widgets.DatePicker(\n",
    "    description='Start Date',\n",
    "    disabled=False\n",
    ")\n",
    "\n",
    "end_date = widgets.DatePicker(\n",
    "    description='End Date',\n",
    "    disabled=False\n",
    ")\n",
    "\n",
    "display(sprint_number)\n",
    "display(start_date)\n",
    "display(end_date)"
   ]
  }
 ],
 "metadata": {
  "language_info": {
   "name": "python"
  },
  "orig_nbformat": 4
 },
 "nbformat": 4,
 "nbformat_minor": 2
}
