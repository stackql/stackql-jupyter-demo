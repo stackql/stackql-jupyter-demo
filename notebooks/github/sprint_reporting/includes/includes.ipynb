{
 "cells": [
  {
   "cell_type": "code",
   "execution_count": null,
   "metadata": {},
   "outputs": [],
   "source": [
    "import ipywidgets as widgets\n",
    "from IPython.display import display, Markdown\n",
    "import plotly.express as px\n",
    "import sys, datetime\n",
    "sys.path.append('/jupyter/ext')\n",
    "import stackql\n",
    "%load_ext stackql"
   ]
  },
  {
   "cell_type": "code",
   "execution_count": null,
   "metadata": {},
   "outputs": [],
   "source": [
    "owner = widgets.Text(\n",
    "    description='GitHub Owner',\n",
    "    disabled=False\n",
    ")\n",
    "\n",
    "repo = widgets.Text(\n",
    "    description='GitHub Repo',\n",
    "    disabled=False\n",
    ")\n",
    "\n",
    "sprint_number = widgets.IntSlider(\n",
    "    value=1,\n",
    "    min=1,\n",
    "    max=10,\n",
    "    step=1,\n",
    "    description='Sprint Number',\n",
    "    disabled=False,\n",
    "    continuous_update=False,\n",
    "    orientation='horizontal',\n",
    "    readout=True,\n",
    "    readout_format='d'\n",
    ")\n",
    "\n",
    "start_date = widgets.DatePicker(\n",
    "    description='Start Date',\n",
    "    disabled=False\n",
    ")\n",
    "\n",
    "end_date = widgets.DatePicker(\n",
    "    description='End Date',\n",
    "    disabled=False\n",
    ")\n",
    "\n",
    "display(sprint_number)\n",
    "display(start_date)\n",
    "display(end_date)\n",
    "display(owner)\n",
    "display(repo)"
   ]
  },
  {
   "cell_type": "code",
   "execution_count": null,
   "metadata": {},
   "outputs": [],
   "source": [
    "\n",
    "def show_contributions(df):\n",
    "    fig = px.bar(df,\n",
    "             x='login',\n",
    "             y='contributions',\n",
    "             title='Contributions by User',\n",
    "             labels={'login': 'User Login', 'contributions': 'Number of Contributions'},\n",
    "             text='contributions')\n",
    "\n",
    "    fig.update_layout(xaxis_tickangle=-45)\n",
    "\n",
    "    fig.show()"
   ]
  }
 ],
 "metadata": {
  "language_info": {
   "name": "python"
  },
  "orig_nbformat": 4
 },
 "nbformat": 4,
 "nbformat_minor": 2
}
