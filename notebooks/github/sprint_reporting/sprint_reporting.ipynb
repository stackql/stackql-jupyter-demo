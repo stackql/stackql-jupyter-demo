{
 "cells": [
  {
   "cell_type": "code",
   "execution_count": null,
   "metadata": {},
   "outputs": [],
   "source": [
    "\n",
    "%run includes/includes.ipynb\n"
   ]
  },
  {
   "cell_type": "code",
   "execution_count": null,
   "metadata": {},
   "outputs": [],
   "source": [
    "\n",
    "# show header\n",
    "owner = owner.value\n",
    "repo = repo.value\n",
    "start_date = start_date.value.strftime('%Y-%m-%d')\n",
    "end_date = end_date.value.strftime('%Y-%m-%d')\n",
    "header_text = f\"# Sprint {sprint_number.value}\\n\"\n",
    "header_text += f\"#### {start_date} to {end_date}\\n\"\n",
    "display(Markdown(header_text))"
   ]
  },
  {
   "cell_type": "markdown",
   "metadata": {},
   "source": [
    "## Sprint Activity - Commits by Author Summary"
   ]
  },
  {
   "cell_type": "code",
   "execution_count": null,
   "metadata": {},
   "outputs": [],
   "source": [
    "\n",
    "%%stackql --no-display\n",
    "SELECT \n",
    "    c.author, \n",
    "    COUNT(*) as commits \n",
    "FROM\n",
    "    (SELECT \n",
    "    JSON_EXTRACT(commit, '$$.author.name') as author,\n",
    "    DATE(DATETIME(JSON_EXTRACT(commit, '$$.author.date'), '+10 hours')) as date\n",
    "    FROM github.repos.commits\n",
    "    WHERE owner = '$owner' AND repo = '$repo' AND\n",
    "    date > '$start_date' AND date <= '$end_date') c\n",
    "GROUP BY c.author"
   ]
  },
  {
   "cell_type": "code",
   "execution_count": null,
   "metadata": {},
   "outputs": [],
   "source": [
    "\n",
    "# graph commits\n",
    "commit_distribution(stackql_df)"
   ]
  },
  {
   "cell_type": "markdown",
   "metadata": {},
   "source": [
    "## Sprint Activity - Commits by Author Detail"
   ]
  },
  {
   "cell_type": "code",
   "execution_count": null,
   "metadata": {},
   "outputs": [],
   "source": [
    "\n",
    "%%stackql --no-display\n",
    "SELECT \n",
    "sha, \n",
    "JSON_EXTRACT(commit, '$$.author.name') as author,  \n",
    "DATE(DATETIME(JSON_EXTRACT(commit, '$$.author.date'), '+10 hours')) as date,\n",
    "TIME(DATETIME(JSON_EXTRACT(commit, '$$.author.date'), '+10 hours')) as time\n",
    "FROM github.repos.commits\n",
    "WHERE owner = '$owner' AND repo = '$repo' AND\n",
    "date > '$start_date' AND date <= '$end_date'"
   ]
  },
  {
   "cell_type": "code",
   "execution_count": null,
   "metadata": {},
   "outputs": [],
   "source": [
    "\n",
    "# save commits and display with download link \n",
    "commits_df = stackql_df\n",
    "commit_shas = commits_df['sha'].tolist()\n",
    "display(commits_df)\n",
    "display(create_download_link(commits_df))"
   ]
  },
  {
   "cell_type": "markdown",
   "metadata": {},
   "source": [
    "## Sprint Activity - Activity Detail"
   ]
  },
  {
   "cell_type": "code",
   "execution_count": null,
   "metadata": {},
   "outputs": [],
   "source": [
    "\n",
    "%%stackql --no-display\n",
    "SELECT \n",
    "activity_type,\n",
    "date(datetime(timestamp, '+10 hours')) as date,\n",
    "time(datetime(timestamp, '+10 hours')) as time,\n",
    "JSON_EXTRACT(actor, '$$.login') as login\n",
    "FROM\n",
    "github.repos.activities\n",
    "WHERE \n",
    "    owner = '$owner' AND \n",
    "    repo = '$repo'  AND\n",
    "    date > '$start_date' AND date <= '$end_date'"
   ]
  },
  {
   "cell_type": "code",
   "execution_count": null,
   "metadata": {},
   "outputs": [],
   "source": [
    "\n",
    "# display activity and download link\n",
    "display(stackql_df)\n",
    "display(create_download_link(stackql_df))"
   ]
  },
  {
   "cell_type": "markdown",
   "metadata": {},
   "source": [
    "## Sprint Activity - Pull Requests"
   ]
  },
  {
   "cell_type": "code",
   "execution_count": null,
   "metadata": {},
   "outputs": [],
   "source": [
    "\n",
    "%%stackql\n",
    "SELECT \n",
    "    number, \n",
    "    JSON_EXTRACT(head, '$$.ref') as ref,\n",
    "    date(datetime(created_at, '+10 hours')) as created_at,\n",
    "    date(datetime(updated_at, '+10 hours')) as updated_at\n",
    "FROM \n",
    "    github.pulls.pull_requests\n",
    "WHERE \n",
    "    owner = '$owner' AND \n",
    "    repo = '$repo' AND\n",
    "    created_at > '$start_date' AND created_at <= '$end_date'"
   ]
  },
  {
   "cell_type": "markdown",
   "metadata": {},
   "source": [
    "## Sprint Activity - Issues"
   ]
  },
  {
   "cell_type": "code",
   "execution_count": null,
   "metadata": {},
   "outputs": [],
   "source": [
    "\n",
    "%%stackql\n",
    "SELECT \n",
    "title,\n",
    "number,\n",
    "JSON_EXTRACT(assignee, '$$.login') as assignee,\n",
    "date(datetime(created_at, '+10 hours')) as created_at,\n",
    "date(datetime(updated_at, '+10 hours')) as updated_at,\n",
    "JSON_EXTRACT(user, '$$.login') as user,\n",
    "author_association\n",
    "FROM github.issues.issues\n",
    "WHERE \n",
    "    owner = '$owner' AND \n",
    "    repo = '$repo' AND\n",
    "    updated_at > '$start_date' AND updated_at <= '$end_date'"
   ]
  },
  {
   "cell_type": "markdown",
   "metadata": {},
   "source": [
    "## Sprint Activity - Releases"
   ]
  },
  {
   "cell_type": "code",
   "execution_count": null,
   "metadata": {},
   "outputs": [],
   "source": [
    "\n",
    "%%stackql\n",
    "SELECT \n",
    "date(datetime(published_at, '+10 hours')) as published_at,\n",
    "target_commitish,\n",
    "tag_name\n",
    "FROM github.repos.releases \n",
    "WHERE \n",
    "    owner = '$owner' AND \n",
    "    repo = '$repo' AND\n",
    "    published_at > '$start_date' AND published_at <= '$end_date'"
   ]
  },
  {
   "cell_type": "markdown",
   "metadata": {},
   "source": [
    "## Contributors - All Time"
   ]
  },
  {
   "cell_type": "code",
   "execution_count": null,
   "metadata": {},
   "outputs": [],
   "source": [
    "\n",
    "%%stackql --no-display\n",
    "SELECT login, contributions FROM github.repos.contributors WHERE owner = '$owner' AND repo = '$repo'"
   ]
  },
  {
   "cell_type": "code",
   "execution_count": null,
   "metadata": {},
   "outputs": [],
   "source": [
    "\n",
    "# show all time contributions\n",
    "show_contributions(stackql_df)"
   ]
  },
  {
   "cell_type": "markdown",
   "metadata": {},
   "source": [
    "## Sprint Activity - Files"
   ]
  },
  {
   "cell_type": "code",
   "execution_count": null,
   "metadata": {},
   "outputs": [],
   "source": [
    "\n",
    "# get files for each commit\n",
    "queries = [\n",
    "    f\"\"\"\n",
    "    SELECT \n",
    "    '{sha}' as sha,\n",
    "    JSON_EXTRACT(commit, '$.author.name') as author,  \n",
    "    DATE(DATETIME(JSON_EXTRACT(commit, '$.author.date'), '+10 hours')) as date,\n",
    "    TIME(DATETIME(JSON_EXTRACT(commit, '$.author.date'), '+10 hours')) as time,    \n",
    "    JSON_EXTRACT(files.value, '$.filename') as filename,\n",
    "    JSON_EXTRACT(files.value, '$.status') as status,\n",
    "    JSON_EXTRACT(files.value, '$.additions') as additions,\n",
    "    JSON_EXTRACT(files.value, '$.deletions') as deletions\n",
    "    FROM github.repos.commits c1, json_each(files) files\n",
    "    WHERE owner = '{owner}' AND repo = '{repo}' AND ref = '{sha}' \n",
    "    \"\"\"\n",
    "    for sha in commit_shas\n",
    "]\n",
    "\n",
    "files_df = run_stackql_queries(queries, rate_limit_per_min=15)"
   ]
  },
  {
   "cell_type": "code",
   "execution_count": null,
   "metadata": {},
   "outputs": [],
   "source": [
    "\n",
    "# display files with download link\n",
    "display(files_df)\n",
    "display(create_download_link(files_df))"
   ]
  }
 ],
 "metadata": {
  "language_info": {
   "name": "python"
  },
  "orig_nbformat": 4
 },
 "nbformat": 4,
 "nbformat_minor": 2
}
