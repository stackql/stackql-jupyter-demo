{
 "cells": [
  {
   "cell_type": "code",
   "execution_count": null,
   "metadata": {},
   "outputs": [],
   "source": [
    "\n",
    "%run includes/includes.ipynb\n"
   ]
  },
  {
   "cell_type": "code",
   "execution_count": null,
   "metadata": {},
   "outputs": [],
   "source": [
    "\n",
    "# show header\n",
    "\n",
    "owner = owner.value\n",
    "repo = repo.value\n",
    "start_date = start_date.value.strftime('%Y-%m-%d')\n",
    "end_date = end_date.value.strftime('%Y-%m-%d')\n",
    "header_text = f\"# Sprint {sprint_number.value}\\n\"\n",
    "header_text += f\"#### {start_date} to {end_date}\\n\"\n",
    "display(Markdown(header_text))"
   ]
  },
  {
   "cell_type": "code",
   "execution_count": null,
   "metadata": {},
   "outputs": [],
   "source": [
    "%%stackql\n",
    "SELECT \n",
    "SUBSTRING(sha, 1, 7) as sha, \n",
    "JSON_EXTRACT(commit, '$$.author.name') as author,  \n",
    "DATE(JSON_EXTRACT(commit, '$$.author.date')) as date\n",
    "FROM github.repos.commits\n",
    "WHERE owner = '$owner' AND repo = '$repo' AND\n",
    "date > '$start_date' AND date <= '$end_date'"
   ]
  },
  {
   "cell_type": "code",
   "execution_count": null,
   "metadata": {},
   "outputs": [],
   "source": [
    "%%stackql --no-display\n",
    "SELECT login, contributions FROM github.repos.contributors WHERE owner = '$owner' AND repo = '$repo'"
   ]
  },
  {
   "cell_type": "code",
   "execution_count": null,
   "metadata": {},
   "outputs": [],
   "source": [
    "show_contributions(stackql_df)"
   ]
  },
  {
   "cell_type": "code",
   "execution_count": null,
   "metadata": {},
   "outputs": [],
   "source": [
    "%%stackql\n",
    "SELECT \n",
    "date(published_at) as published_at,\n",
    "target_commitish,\n",
    "tag_name\n",
    "FROM github.repos.releases \n",
    "WHERE \n",
    "    owner = '$owner' AND \n",
    "    repo = '$repo' AND\n",
    "    published_at > '$start_date' AND published_at <= '$end_date'"
   ]
  },
  {
   "cell_type": "code",
   "execution_count": null,
   "metadata": {},
   "outputs": [],
   "source": [
    "%%stackql\n",
    "SELECT \n",
    "    number, \n",
    "    JSON_EXTRACT(head, '$$.ref') as ref,\n",
    "    date(created_at) as created_at,\n",
    "    updated_at\n",
    "FROM \n",
    "    github.pulls.pull_requests\n",
    "WHERE \n",
    "    owner = '$owner' AND \n",
    "    repo = '$repo' AND\n",
    "    created_at > '$start_date' AND created_at <= '$end_date'"
   ]
  },
  {
   "cell_type": "code",
   "execution_count": null,
   "metadata": {},
   "outputs": [],
   "source": [
    "%%stackql\n",
    "SELECT \n",
    "activity_type,\n",
    "date(timestamp) as timestamp,\n",
    "JSON_EXTRACT(actor, '$$.login') as login\n",
    "FROM\n",
    "github.repos.activities\n",
    "WHERE \n",
    "    owner = '$owner' AND \n",
    "    repo = '$repo'  AND\n",
    "    timestamp > '$start_date' AND timestamp <= '$end_date'"
   ]
  },
  {
   "cell_type": "code",
   "execution_count": null,
   "metadata": {},
   "outputs": [],
   "source": [
    "%%stackql\n",
    "SELECT \n",
    "JSON_EXTRACT(t.value, '$$.type') as type,\n",
    "JSON_EXTRACT(t.value, '$$.path') as path,\n",
    "JSON_EXTRACT(t.value, '$$.size') as size,\n",
    "JSON_EXTRACT(t.value, '$$.sha') as sha\n",
    "FROM github.git.trees, json_each(\"tree\") t\n",
    "WHERE tree_sha = '$sha' \n",
    "AND owner = '$owner' AND repo = '$repo'"
   ]
  }
 ],
 "metadata": {
  "language_info": {
   "name": "python"
  },
  "orig_nbformat": 4
 },
 "nbformat": 4,
 "nbformat_minor": 2
}
