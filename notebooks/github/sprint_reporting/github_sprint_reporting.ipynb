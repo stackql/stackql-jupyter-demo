{
 "cells": [
  {
   "cell_type": "code",
   "execution_count": null,
   "metadata": {},
   "outputs": [],
   "source": [
    "\n",
    "%run includes/includes.ipynb\n"
   ]
  },
  {
   "cell_type": "code",
   "execution_count": null,
   "metadata": {},
   "outputs": [],
   "source": [
    "\n",
    "# show header\n",
    "\n",
    "owner = owner.value\n",
    "repo = repo.value\n",
    "header_text = f\"# Sprint {sprint_number.value}\\n\"\n",
    "header_text += f\"#### {start_date.value} to {end_date.value}\\n\"\n",
    "display(Markdown(header_text))"
   ]
  },
  {
   "cell_type": "code",
   "execution_count": null,
   "metadata": {},
   "outputs": [],
   "source": [
    "%%stackql\n",
    "SELECT \n",
    "SUBSTRING(sha, 1, 7) as sha, \n",
    "JSON_EXTRACT(commit, '$$.author.name') as author,  \n",
    "JSON_EXTRACT(commit, '$$.author.date') as date\n",
    "FROM github.repos.commits\n",
    "WHERE owner = '$owner' AND repo = '$repo'"
   ]
  },
  {
   "cell_type": "code",
   "execution_count": null,
   "metadata": {},
   "outputs": [],
   "source": [
    "%%stackql --no-display\n",
    "SELECT login, contributions  FROM github.repos.contributors WHERE owner = '$owner' AND repo = '$repo'"
   ]
  },
  {
   "cell_type": "code",
   "execution_count": null,
   "metadata": {},
   "outputs": [],
   "source": [
    "show_contributions(stackql_df)"
   ]
  },
  {
   "cell_type": "code",
   "execution_count": null,
   "metadata": {},
   "outputs": [],
   "source": [
    "%%stackql\n",
    "SELECT \n",
    "published_at,\n",
    "target_commitish,\n",
    "tag_name\n",
    "FROM github.repos.releases WHERE owner = '$owner' AND repo = '$repo'"
   ]
  }
 ],
 "metadata": {
  "language_info": {
   "name": "python"
  },
  "orig_nbformat": 4
 },
 "nbformat": 4,
 "nbformat_minor": 2
}
