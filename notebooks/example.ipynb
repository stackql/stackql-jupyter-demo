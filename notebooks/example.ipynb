{
 "cells": [
  {
   "cell_type": "code",
   "execution_count": null,
   "id": "55bbbbda",
   "metadata": {},
   "outputs": [],
   "source": [
    "%load_ext stackqlmagic"
   ]
  },
  {
   "cell_type": "code",
   "execution_count": null,
   "id": "f9c49809",
   "metadata": {},
   "outputs": [],
   "source": [
    "%%stackql\n",
    "SHOW PROVIDERS"
   ]
  },
  {
   "cell_type": "code",
   "execution_count": null,
   "id": "42a4d4ab",
   "metadata": {},
   "outputs": [],
   "source": [
    "%%stackql\n",
    "SHOW SERVICES IN azure"
   ]
  },
  {
   "cell_type": "code",
   "execution_count": null,
   "id": "65b2aef1",
   "metadata": {},
   "outputs": [],
   "source": [
    "%%stackql\n",
    "SHOW SERVICES IN azure LIKE '%compute%'"
   ]
  },
  {
   "cell_type": "code",
   "execution_count": null,
   "id": "a594d41f",
   "metadata": {},
   "outputs": [],
   "source": [
    "%%stackql\n",
    "SHOW RESOURCES IN azure.compute"
   ]
  },
  {
   "cell_type": "code",
   "execution_count": null,
   "id": "1b4343ea",
   "metadata": {},
   "outputs": [],
   "source": [
    "%%stackql\n",
    "SHOW RESOURCES IN azure.compute LIKE '%virtual_machine%'"
   ]
  },
  {
   "cell_type": "code",
   "execution_count": null,
   "id": "7bd6915c",
   "metadata": {},
   "outputs": [],
   "source": [
    "%%stackql\n",
    "DESCRIBE EXTENDED azure.compute.virtual_machines"
   ]
  },
  {
   "cell_type": "code",
   "execution_count": null,
   "id": "9b06c6bf",
   "metadata": {},
   "outputs": [],
   "source": [
    "%%stackql\n",
    "SHOW EXTENDED METHODS IN azure.compute.virtual_machines"
   ]
  }
 ],
 "metadata": {
  "kernelspec": {
   "display_name": "Python 3.10.0 64-bit",
   "language": "python",
   "name": "python3"
  },
  "language_info": {
   "codemirror_mode": {
    "name": "ipython",
    "version": 3
   },
   "file_extension": ".py",
   "mimetype": "text/x-python",
   "name": "python",
   "nbconvert_exporter": "python",
   "pygments_lexer": "ipython3",
   "version": "3.10.0"
  },
  "vscode": {
   "interpreter": {
    "hash": "369f2c481f4da34e4445cda3fffd2e751bd1c4d706f27375911949ba6bb62e1c"
   }
  }
 },
 "nbformat": 4,
 "nbformat_minor": 5
}
