{
 "cells": [
  {
   "cell_type": "code",
   "execution_count": null,
   "metadata": {},
   "outputs": [],
   "source": [
    "%load_ext ext.stackql"
   ]
  },
  {
   "cell_type": "code",
   "execution_count": null,
   "metadata": {},
   "outputs": [],
   "source": [
    "%run includes/google-audit-setup.ipynb"
   ]
  },
  {
   "cell_type": "code",
   "execution_count": null,
   "metadata": {},
   "outputs": [],
   "source": [
    "## notebook variables\n",
    "org_id = \"12345\""
   ]
  },
  {
   "cell_type": "code",
   "execution_count": null,
   "metadata": {},
   "outputs": [],
   "source": [
    "#\n",
    "# discover folders and projects\n",
    "#\n",
    "def get_projects_query(entity_id):\n",
    "    return f\"\"\"\n",
    "    SELECT displayName, name, parent, projectId \n",
    "    FROM google.cloudresourcemanager.projects \n",
    "    WHERE parent = '{entity_id}';\n",
    "    \"\"\"\n",
    "\n",
    "def get_folders_query(entity_id):\n",
    "    return f\"\"\"\n",
    "    SELECT displayName, name, parent \n",
    "    FROM google.cloudresourcemanager.folders \n",
    "    WHERE parent = '{entity_id}';\n",
    "    \"\"\"\n",
    "\n",
    "start_time = time.time()\n",
    "\n",
    "# Start with the root organization to get all resources\n",
    "all_resources = get_resources_recursive(\"organizations/%s\" % (org_id), get_projects_query, get_folders_query)\n",
    "\n",
    "# Convert list to dataframe and filter\n",
    "resources_df = (pd.DataFrame(all_resources)\n",
    "                .loc[lambda df: df['error'].isna()]\n",
    "                .drop('error', axis=1, errors='ignore'))\n",
    "\n",
    "# Create root node and build the tree\n",
    "root = Node(\"organization\", opened=False, icon='building')\n",
    "build_tree_node(resources_df, \"organization\", root)\n",
    "\n",
    "# Display the tree\n",
    "tree = Tree(nodes=[root])\n",
    "\n",
    "# Calculate metrics and display\n",
    "elapsed_time = (time.time() - start_time) * 1000\n",
    "num_folders = resources_df.query(\"resType == 'folder'\").shape[0]\n",
    "num_projects = resources_df.query(\"resType == 'project'\").shape[0]\n",
    "projects_df = resources_df.query(\"resType == 'project'\")['projectId'].dropna().to_frame()\n",
    "projects = projects_df['projectId'].tolist()\n",
    "\n",
    "print(f\"Total elapsed time: {elapsed_time:.2f} ms\")\n",
    "cards_data = [(\"Number of Projects\", num_projects), (\"Number of Folders\", num_folders)]\n",
    "display_cards(cards_data)\n",
    "tree"
   ]
  },
  {
   "cell_type": "code",
   "execution_count": null,
   "metadata": {},
   "outputs": [],
   "source": [
    "#\n",
    "# get project iam bindings\n",
    "#\n",
    "queries = [\n",
    "    f\"\"\"\n",
    "    SELECT role, condition, members, '{project}' as project\n",
    "    FROM google.cloudresourcemanager.projects_iam_policies\n",
    "    WHERE projectsId = '{project}'\n",
    "    \"\"\"\n",
    "    for project in projects\n",
    "]\n",
    "\n",
    "res = stackql.executeQueriesAsync(queries)\n",
    "\n",
    "bindings_df = (\n",
    "    explode_json_list_col(pd.read_json(json.dumps(res)), 'members', 'member')\n",
    "    .assign(**{\n",
    "        'member_type': lambda x: x['member'].str.split(':', n=1).str[0],\n",
    "        'member_email': lambda x: x['member'].str.split(':', n=1).str[1]\n",
    "    })\n",
    "    .drop('member', axis=1)\n",
    ")\n",
    "\n",
    "bindings_df"
   ]
  },
  {
   "cell_type": "code",
   "execution_count": null,
   "metadata": {},
   "outputs": [],
   "source": [
    "#\n",
    "# get zones and regions\n",
    "#\n",
    "queries = [\n",
    "    f\"\"\"\n",
    "    SELECT name, SPLIT_PART(region, '/', 9) as region\n",
    "    FROM google.compute.zones\n",
    "    WHERE project = '{project}'\n",
    "    \"\"\"\n",
    "    for project in projects\n",
    "]\n",
    "\n",
    "all_results = []\n",
    "for query in queries:\n",
    "    res = stackql.execute(query)\n",
    "    try:\n",
    "        parsed_result = json.loads(res)\n",
    "        all_results.extend(parsed_result)\n",
    "    except json.JSONDecodeError:\n",
    "        print(f\"Failed to parse result from query: {query}\")\n",
    "        print(f\"Raw result: {res}\")\n",
    "        \n",
    "zones_df = (\n",
    "    pd.DataFrame(all_results)\n",
    "    .loc[lambda x: x['error'].isnull()]\n",
    "    .drop('error', axis=1)\n",
    "    .drop_duplicates()\n",
    ")\n",
    "\n",
    "regions_df = pd.DataFrame(zones_df['region'].unique(), columns=['region'])\n",
    "# For every combination of project and region\n",
    "projects_regions_df = projects_df.assign(key=1).merge(regions_df.assign(key=1), on='key').drop('key', axis=1)\n",
    "# For every combination of project and zone\n",
    "projects_zones_df = projects_df.assign(key=1).merge(zones_df.assign(key=1), on='key').drop(['key', 'region'], axis=1)\n",
    "\n",
    "# python list variables\n",
    "regions = regions_df['region'].tolist()\n",
    "zones = zones_df['name'].tolist()\n",
    "projects_regions_list = projects_regions_df.to_dict(orient='records')\n",
    "projects_zones_list = projects_zones_df.to_dict(orient='records')\n"
   ]
  },
  {
   "cell_type": "code",
   "execution_count": null,
   "metadata": {},
   "outputs": [],
   "source": []
  },
  {
   "cell_type": "code",
   "execution_count": null,
   "metadata": {},
   "outputs": [],
   "source": []
  }
 ],
 "metadata": {
  "kernelspec": {
   "display_name": "Python 3.10.0 64-bit",
   "language": "python",
   "name": "python3"
  },
  "language_info": {
   "name": "python",
   "version": "3.10.0"
  },
  "orig_nbformat": 4,
  "vscode": {
   "interpreter": {
    "hash": "369f2c481f4da34e4445cda3fffd2e751bd1c4d706f27375911949ba6bb62e1c"
   }
  }
 },
 "nbformat": 4,
 "nbformat_minor": 2
}
