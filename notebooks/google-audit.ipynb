{
 "cells": [
  {
   "cell_type": "code",
   "execution_count": null,
   "metadata": {},
   "outputs": [],
   "source": [
    "%run includes/google-audit-setup.ipynb"
   ]
  },
  {
   "cell_type": "code",
   "execution_count": null,
   "metadata": {},
   "outputs": [],
   "source": [
    "# discover folders and projects\n",
    "def get_projects_query(entity_id):\n",
    "    return f\"\"\"\n",
    "    SELECT displayName, name, parent, projectId \n",
    "    FROM google.cloudresourcemanager.projects \n",
    "    WHERE parent = '{entity_id}';\n",
    "    \"\"\"\n",
    "\n",
    "def get_folders_query(entity_id):\n",
    "    return f\"\"\"\n",
    "    SELECT displayName, name, parent \n",
    "    FROM google.cloudresourcemanager.folders \n",
    "    WHERE parent = '{entity_id}';\n",
    "    \"\"\"\n",
    "\n",
    "resources_df, projects, project_numbers, tree = get_all_resources(get_projects_query, get_folders_query, org_id.value)\n",
    "tree"
   ]
  },
  {
   "cell_type": "code",
   "execution_count": null,
   "metadata": {},
   "outputs": [],
   "source": [
    "# get project/regions and usage summary info\n",
    "\n",
    "queries = [\n",
    "    f\"\"\"\n",
    "    SELECT name as 'region',\n",
    "    '{project}' as project,\n",
    "    zones,\n",
    "    quotas\n",
    "    FROM google.compute.regions WHERE project = '{project}'\n",
    "    \"\"\"\n",
    "    for project in projects\n",
    "]\n",
    "\n",
    "regions_df = run_stackql_queries(queries)\n",
    "\n",
    "regions_df = (\n",
    "    explode_json_list_col(regions_df, 'quotas', 'quota')\n",
    "    .loc[explode_json_list_col(regions_df, 'quotas', 'quota')['quota_usage'] != 0]\n",
    ")"
   ]
  },
  {
   "cell_type": "code",
   "execution_count": null,
   "metadata": {},
   "outputs": [],
   "source": [
    "# network usage summary report\n",
    "\n",
    "import plotly.graph_objects as go\n",
    "from plotly.subplots import make_subplots\n",
    "\n",
    "# Define the list of desired metrics\n",
    "desired_metrics = ['STATIC_ADDRESSES', 'IN_USE_ADDRESSES', 'INSTANCES']\n",
    "\n",
    "# Number of rows for subplots (assuming one chart per row)\n",
    "n_metrics = len(desired_metrics)\n",
    "\n",
    "# Create subplot structure\n",
    "fig = make_subplots(rows=n_metrics, cols=1, shared_xaxes=True, vertical_spacing=0.05,\n",
    "                    subplot_titles=desired_metrics)\n",
    "\n",
    "for idx, metric in enumerate(desired_metrics, start=1):\n",
    "    subset = regions_df[regions_df['quota_metric'] == metric]\n",
    "    fig.add_trace(go.Bar(x=subset['project'], y=subset['quota_usage'], name=metric), row=idx, col=1)\n",
    "\n",
    "fig.update_layout(height=200*n_metrics, width=800, title_text=\"Quota Usage by Project per Metric\", showlegend=False)\n",
    "fig.show()"
   ]
  },
  {
   "cell_type": "code",
   "execution_count": null,
   "metadata": {},
   "outputs": [],
   "source": [
    "# get networks\n",
    "\n",
    "queries = [\n",
    "    f\"\"\"\n",
    "    SELECT name,\n",
    "    '{project}' as project,\n",
    "    mtu,\n",
    "    networkFirewallPolicyEnforcementOrder as fwPolicyEnforcementOrder,\n",
    "    peerings,\n",
    "    JSON_EXTRACT(routingConfig, '$.routingMode') as routingMode,\n",
    "    subnetworks\n",
    "    FROM google.compute.networks WHERE project = '{project}'\n",
    "    \"\"\"\n",
    "    for project in projects\n",
    "]\n",
    "\n",
    "networks_df = (lambda df: df[df['name'] != 'null'])(run_stackql_queries(queries))\n",
    "networks_df"
   ]
  },
  {
   "cell_type": "code",
   "execution_count": null,
   "metadata": {},
   "outputs": [],
   "source": [
    "# network peerings\n",
    "networks_subset_df = networks_df[networks_df['peerings'] != 'null'][['name', 'peerings']].copy()\n",
    "network_peerings_df = explode_json_list_col(networks_subset_df, 'peerings', 'peering')\n",
    "network_peerings_df"
   ]
  },
  {
   "cell_type": "code",
   "execution_count": null,
   "metadata": {},
   "outputs": [],
   "source": [
    "# get project iam bindings\n",
    "\n",
    "queries = [\n",
    "    f\"\"\"\n",
    "    SELECT role, condition, members, '{project}' as project\n",
    "    FROM google.cloudresourcemanager.projects_iam_policies\n",
    "    WHERE projectsId = '{project}'\n",
    "    \"\"\"\n",
    "    for project in projects\n",
    "]\n",
    "\n",
    "_bindings_df = run_stackql_queries(queries)\n",
    "\n",
    "project_bindings = (explode_json_list_col(_bindings_df, 'members', 'member')\n",
    " .assign(member_type=lambda x: x['member'].str.split(':', expand=True)[0],\n",
    "         member_email=lambda x: x['member'].str.split(':', expand=True)[1])\n",
    ")\n",
    "project_bindings"
   ]
  },
  {
   "cell_type": "code",
   "execution_count": null,
   "metadata": {},
   "outputs": [],
   "source": [
    "# get all instances across all projects\n",
    "\n",
    "queries = [\n",
    "    f\"\"\"\n",
    "    SELECT \n",
    "    name,\n",
    "    status,\n",
    "    SPLIT_PART(machineType, '/', 11) as machineType,\n",
    "    '{project}' as project,\n",
    "    creationTimestamp,\n",
    "    lastStartTimestamp,\n",
    "    SPLIT_PART(JSON_EXTRACT(networkInterfaces, '$[0].network'), '/', 10) as network,\n",
    "    SPLIT_PART(JSON_EXTRACT(networkInterfaces, '$[0].subnetwork'), '/', 11) as subnetwork,\n",
    "    JSON_EXTRACT(networkInterfaces, '$[0].networkIP') as networkIP,\n",
    "    JSON_EXTRACT(tags, '$.items') as tags,\n",
    "    labels\n",
    "    FROM google.compute.instances\n",
    "    WHERE project = '{project}'\n",
    "    \"\"\"\n",
    "    for project in projects\n",
    "]\n",
    "instances_df = run_stackql_queries(queries)\t\n",
    "instances_df"
   ]
  },
  {
   "cell_type": "code",
   "execution_count": null,
   "metadata": {},
   "outputs": [],
   "source": [
    "args_json = json.dumps({\"project\": projects[0]})"
   ]
  },
  {
   "cell_type": "code",
   "execution_count": null,
   "metadata": {},
   "outputs": [],
   "source": [
    "%%stackql\n",
    "SELECT * FROM google.compute.regions WHERE project = '{project}'"
   ]
  },
  {
   "cell_type": "code",
   "execution_count": null,
   "metadata": {},
   "outputs": [],
   "source": [
    "# cloud functions\n",
    "queries = [\n",
    "    f\"\"\"\n",
    "    SELECT locationId,\n",
    "    '{project}' as project\n",
    "    FROM google.cloudfunctions.locations WHERE projectsId = '{project}'\n",
    "    \"\"\"\n",
    "    for project in projects\n",
    "]\n",
    "\n",
    "locations_df = run_stackql_queries(queries)\n",
    "locations = locations_df['locationId'].tolist()\n",
    "\n",
    "queries = [\n",
    "    f\"\"\"\n",
    "    SELECT *,\n",
    "    '{project}' as project,\n",
    "    '{location}' as location\n",
    "    FROM google.cloudfunctions.functions WHERE projectsId = '{project}' AND locationsId = '{location}'\n",
    "    \"\"\"\n",
    "    for project in projects\n",
    "    for location in locations\n",
    "]\n",
    "functions_df = run_stackql_queries(queries)\n",
    "functions_df"
   ]
  }
 ],
 "metadata": {
  "kernelspec": {
   "display_name": "Python 3.10.0 64-bit",
   "language": "python",
   "name": "python3"
  },
  "language_info": {
   "name": "python",
   "version": "3.10.0"
  },
  "orig_nbformat": 4,
  "vscode": {
   "interpreter": {
    "hash": "369f2c481f4da34e4445cda3fffd2e751bd1c4d706f27375911949ba6bb62e1c"
   }
  }
 },
 "nbformat": 4,
 "nbformat_minor": 2
}
