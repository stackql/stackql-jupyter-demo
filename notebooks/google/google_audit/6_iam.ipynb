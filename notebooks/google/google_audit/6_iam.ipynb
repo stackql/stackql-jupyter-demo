{
 "cells": [
  {
   "cell_type": "code",
   "execution_count": null,
   "metadata": {},
   "outputs": [],
   "source": [
    "\n",
    "%run includes/6-iam-setup.ipynb"
   ]
  },
  {
   "cell_type": "markdown",
   "metadata": {},
   "source": [
    "# IAM Bindings\n",
    "Detail reports on IAM bindings deployed across the GCP estate."
   ]
  },
  {
   "cell_type": "code",
   "execution_count": null,
   "metadata": {},
   "outputs": [],
   "source": [
    "\n",
    "# get project iam bindings\n",
    "queries = [\n",
    "    f\"\"\"\n",
    "    select \n",
    "    '{project}' as project,\n",
    "    role,\n",
    "    condition,\n",
    "    SPLIT_PART(members.value, ':', 1) as member_type,\n",
    "    SPLIT_PART(members.value, ':', 2) as member \n",
    "    from google.cloudresourcemanager.projects_iam_policies iam, json_each(members) members\n",
    "    WHERE projectsId = '{project}'\n",
    "    \"\"\"\n",
    "    for project in all_projects\n",
    "]\n",
    "\n",
    "project_bindings = run_stackql_queries(queries)\n"
   ]
  },
  {
   "cell_type": "markdown",
   "metadata": {},
   "source": [
    "## Project IAM Bindings"
   ]
  },
  {
   "cell_type": "code",
   "execution_count": null,
   "metadata": {},
   "outputs": [],
   "source": [
    "\n",
    "# get project iam bindings\n",
    "project_bindings"
   ]
  }
 ],
 "metadata": {
  "language_info": {
   "name": "python"
  },
  "orig_nbformat": 4
 },
 "nbformat": 4,
 "nbformat_minor": 2
}
