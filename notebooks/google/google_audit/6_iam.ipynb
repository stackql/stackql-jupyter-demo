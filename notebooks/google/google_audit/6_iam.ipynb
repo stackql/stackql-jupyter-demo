{
 "cells": [
  {
   "cell_type": "code",
   "execution_count": null,
   "metadata": {},
   "outputs": [],
   "source": []
  },
  {
   "cell_type": "code",
   "execution_count": null,
   "metadata": {},
   "outputs": [],
   "source": [
    "\n",
    "# get project iam bindings\n",
    "queries = [\n",
    "    f\"\"\"\n",
    "    SELECT role, condition, members, '{project}' as project\n",
    "    FROM google.cloudresourcemanager.projects_iam_policies\n",
    "    WHERE projectsId = '{project}'\n",
    "    \"\"\"\n",
    "    for project in projects\n",
    "]\n",
    "\n",
    "_bindings_df = run_stackql_queries(queries)\n",
    "\n",
    "project_bindings = (explode_json_list_col(_bindings_df, 'members', 'member')\n",
    " .assign(member_type=lambda x: x['member'].str.split(':', expand=True)[0],\n",
    "         member_email=lambda x: x['member'].str.split(':', expand=True)[1])\n",
    ")\n",
    "project_bindings"
   ]
  }
 ],
 "metadata": {
  "language_info": {
   "name": "python"
  },
  "orig_nbformat": 4
 },
 "nbformat": 4,
 "nbformat_minor": 2
}
