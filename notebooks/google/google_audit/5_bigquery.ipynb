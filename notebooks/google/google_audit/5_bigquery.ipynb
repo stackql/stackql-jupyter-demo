{
 "cells": [
  {
   "cell_type": "code",
   "execution_count": null,
   "metadata": {},
   "outputs": [],
   "source": [
    "\n",
    "%run includes/5-bigquery-setup.ipynb"
   ]
  },
  {
   "cell_type": "markdown",
   "metadata": {},
   "source": [
    "# BigQuery\n",
    "Summary and detail reports on BigQuery datasets and tables deployed across the GCP estate."
   ]
  },
  {
   "cell_type": "code",
   "execution_count": null,
   "metadata": {},
   "outputs": [],
   "source": [
    "\n",
    "# get datasets\n",
    "dataset_queries = [\n",
    "    f\"\"\"\n",
    "    SELECT \n",
    "    *,\n",
    "    '{project}' as project\n",
    "    FROM google.bigquery.datasets WHERE projectId = '{project}'\n",
    "    \"\"\"\n",
    "    for project in all_projects\n",
    "]\n",
    "datasets_df = run_stackql_queries(dataset_queries)\n",
    "datasets_df"
   ]
  }
 ],
 "metadata": {
  "language_info": {
   "name": "python"
  },
  "orig_nbformat": 4
 },
 "nbformat": 4,
 "nbformat_minor": 2
}
