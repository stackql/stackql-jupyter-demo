{
 "cells": [
  {
   "cell_type": "code",
   "execution_count": null,
   "metadata": {},
   "outputs": [],
   "source": [
    "\n",
    "%run includes/2-compute-setup.ipynb"
   ]
  },
  {
   "cell_type": "markdown",
   "metadata": {},
   "source": [
    "# Compute Instances\n",
    "Summary and detail reports on compute instances and persistent disks deployed across the GCP estate."
   ]
  },
  {
   "cell_type": "code",
   "execution_count": null,
   "metadata": {},
   "outputs": [],
   "source": [
    "\n",
    "# get project/regions and usage summary info for each project\n",
    "queries = [\n",
    "    f\"\"\"\n",
    "    SELECT name as 'region',\n",
    "    '{project}' as project,\n",
    "    zones,\n",
    "    quotas\n",
    "    FROM google.compute.regions WHERE project = '{project}'\n",
    "    \"\"\"\n",
    "    for project in all_projects\n",
    "]\n",
    "\n",
    "regions_df = run_stackql_queries(queries)\n",
    "regions_df, compute_projects = get_compute_projects(regions_df)\n",
    "\n",
    "# get all instances across all projects\n",
    "queries = [\n",
    "    f\"\"\"\n",
    "    SELECT \n",
    "    name,\n",
    "    status,\n",
    "    SPLIT_PART(machineType, '/', 11) as machineType,\n",
    "    '{project}' as project,\n",
    "    creationTimestamp,\n",
    "    lastStartTimestamp,\n",
    "    SPLIT_PART(JSON_EXTRACT(networkInterfaces, '$[0].network'), '/', 10) as network,\n",
    "    SPLIT_PART(JSON_EXTRACT(networkInterfaces, '$[0].subnetwork'), '/', 11) as subnetwork,\n",
    "    JSON_EXTRACT(networkInterfaces, '$[0].networkIP') as networkIP,\n",
    "    JSON_EXTRACT(tags, '$.items') as tags,\n",
    "    labels\n",
    "    FROM google.compute.instances\n",
    "    WHERE project = '{project}'\n",
    "    \"\"\"\n",
    "    for project in compute_projects\n",
    "]\n",
    "instances_df = run_stackql_queries(queries)"
   ]
  },
  {
   "cell_type": "markdown",
   "metadata": {},
   "source": [
    "## Compute Summary"
   ]
  },
  {
   "cell_type": "code",
   "execution_count": null,
   "metadata": {},
   "outputs": [],
   "source": [
    "\n",
    "show_compute_summary_cards(regions_df, len(instances_df))"
   ]
  },
  {
   "cell_type": "markdown",
   "metadata": {},
   "source": [
    "## Compute Usage Summary by Project"
   ]
  },
  {
   "cell_type": "code",
   "execution_count": null,
   "metadata": {},
   "outputs": [],
   "source": [
    "\n",
    "plot_compute_metrics(regions_df, ['INSTANCES'], 400)"
   ]
  },
  {
   "cell_type": "code",
   "execution_count": null,
   "metadata": {},
   "outputs": [],
   "source": [
    "\n",
    "plot_compute_metrics(regions_df, ['CPUS', 'C2_CPUS', 'DISKS_TOTAL_GB'], 250)"
   ]
  },
  {
   "cell_type": "code",
   "execution_count": null,
   "metadata": {},
   "outputs": [],
   "source": [
    "\n",
    "# plot_compute_metrics(regions_df, ['INSTANCE_GROUPS', 'INSTANCE_GROUP_MANAGERS', 'REGIONAL_INSTANCE_GROUP_MANAGERS'], 250)"
   ]
  },
  {
   "cell_type": "markdown",
   "metadata": {},
   "source": [
    "## Instances by Machine Type"
   ]
  },
  {
   "cell_type": "code",
   "execution_count": null,
   "metadata": {},
   "outputs": [],
   "source": [
    "\n",
    "plot_machine_types(instances_df)"
   ]
  },
  {
   "cell_type": "code",
   "execution_count": null,
   "metadata": {},
   "outputs": [],
   "source": [
    "\n",
    "# get all persistent disks across all projects\n",
    "queries = [\n",
    "    f\"\"\"\n",
    "    SELECT \n",
    "    name, sizeGb\n",
    "    FROM google.compute.disks\n",
    "    WHERE project = '{project}'\n",
    "    \"\"\"\n",
    "    for project in compute_projects\n",
    "]\n",
    "persistent_disks_df = run_stackql_queries(queries)\t"
   ]
  },
  {
   "cell_type": "markdown",
   "metadata": {},
   "source": [
    "## Persistent Disk Sizes"
   ]
  },
  {
   "cell_type": "code",
   "execution_count": null,
   "metadata": {},
   "outputs": [],
   "source": [
    "\n",
    "plot_persistent_disks(persistent_disks_df)"
   ]
  },
  {
   "cell_type": "markdown",
   "metadata": {},
   "source": [
    "## Instances Detail"
   ]
  },
  {
   "cell_type": "code",
   "execution_count": null,
   "metadata": {},
   "outputs": [],
   "source": [
    "\n",
    "instances_df"
   ]
  },
  {
   "cell_type": "markdown",
   "metadata": {},
   "source": [
    "## Persistent Disks Detail"
   ]
  },
  {
   "cell_type": "code",
   "execution_count": null,
   "metadata": {},
   "outputs": [],
   "source": [
    "\n",
    "persistent_disks_df"
   ]
  },
  {
   "cell_type": "markdown",
   "metadata": {},
   "source": [
    "## GKE Clusters"
   ]
  },
  {
   "cell_type": "code",
   "execution_count": null,
   "metadata": {},
   "outputs": [],
   "source": [
    "queries = [\n",
    "    f\"\"\"\n",
    "    SELECT *, '{project}' as project\n",
    "    FROM google.container.clusters\n",
    "    WHERE projectsId = '{project}' AND locationsId = 'australia-southeast1'\n",
    "    \"\"\"\n",
    "    for project in all_projects\n",
    "]\n",
    "clusters_df = run_stackql_queries(queries)\n",
    "clusters_df\t"
   ]
  }
 ],
 "metadata": {
  "language_info": {
   "name": "python"
  },
  "orig_nbformat": 4
 },
 "nbformat": 4,
 "nbformat_minor": 2
}
