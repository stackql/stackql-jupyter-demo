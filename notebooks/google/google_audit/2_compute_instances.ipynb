{
 "cells": [
  {
   "cell_type": "code",
   "execution_count": null,
   "metadata": {},
   "outputs": [],
   "source": [
    "%run includes/2-setup.ipynb"
   ]
  },
  {
   "cell_type": "code",
   "execution_count": null,
   "metadata": {},
   "outputs": [],
   "source": []
  },
  {
   "cell_type": "code",
   "execution_count": null,
   "metadata": {},
   "outputs": [],
   "source": [
    "# get project/regions and usage summary info\n",
    "queries = [\n",
    "    f\"\"\"\n",
    "    SELECT name as 'region',\n",
    "    '{project}' as project,\n",
    "    zones,\n",
    "    quotas\n",
    "    FROM google.compute.regions WHERE project = '{project}'\n",
    "    \"\"\"\n",
    "    for project in compute_projects\n",
    "]\n",
    "\n",
    "regions_df = run_stackql_queries(queries)\n",
    "\n",
    "regions_df = (\n",
    "    explode_json_list_col(regions_df, 'quotas', 'quota')\n",
    "    .loc[explode_json_list_col(regions_df, 'quotas', 'quota')['quota_usage'] != 0]\n",
    ")\n",
    "regions_df.to_pickle('/tmp/regions_df.pkl')"
   ]
  },
  {
   "cell_type": "code",
   "execution_count": null,
   "metadata": {},
   "outputs": [],
   "source": [
    "plot_compute_metrics(regions_df, ['INSTANCES'], 400)"
   ]
  },
  {
   "cell_type": "code",
   "execution_count": null,
   "metadata": {},
   "outputs": [],
   "source": [
    "plot_compute_metrics(regions_df, ['CPUS', 'C2_CPUS', 'DISKS_TOTAL_GB'])"
   ]
  },
  {
   "cell_type": "code",
   "execution_count": null,
   "metadata": {},
   "outputs": [],
   "source": [
    "plot_compute_metrics(regions_df, ['INSTANCE_GROUPS', 'INSTANCE_GROUP_MANAGERS', 'REGIONAL_INSTANCE_GROUP_MANAGERS'])"
   ]
  },
  {
   "cell_type": "code",
   "execution_count": null,
   "metadata": {},
   "outputs": [],
   "source": [
    "# get all instances across all projects\n",
    "\n",
    "queries = [\n",
    "    f\"\"\"\n",
    "    SELECT \n",
    "    name,\n",
    "    status,\n",
    "    SPLIT_PART(machineType, '/', 11) as machineType,\n",
    "    '{project}' as project,\n",
    "    creationTimestamp,\n",
    "    lastStartTimestamp,\n",
    "    SPLIT_PART(JSON_EXTRACT(networkInterfaces, '$[0].network'), '/', 10) as network,\n",
    "    SPLIT_PART(JSON_EXTRACT(networkInterfaces, '$[0].subnetwork'), '/', 11) as subnetwork,\n",
    "    JSON_EXTRACT(networkInterfaces, '$[0].networkIP') as networkIP,\n",
    "    JSON_EXTRACT(tags, '$.items') as tags,\n",
    "    labels\n",
    "    FROM google.compute.instances\n",
    "    WHERE project = '{project}'\n",
    "    \"\"\"\n",
    "    for project in compute_projects\n",
    "]\n",
    "instances_df = run_stackql_queries(queries)\t\n",
    "instances_df"
   ]
  },
  {
   "cell_type": "code",
   "execution_count": null,
   "metadata": {},
   "outputs": [],
   "source": [
    "plot_machine_types(instances_df)"
   ]
  }
 ],
 "metadata": {
  "language_info": {
   "name": "python"
  },
  "orig_nbformat": 4
 },
 "nbformat": 4,
 "nbformat_minor": 2
}
