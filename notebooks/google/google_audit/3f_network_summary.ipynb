{
 "cells": [
  {
   "cell_type": "code",
   "execution_count": null,
   "metadata": {},
   "outputs": [],
   "source": [
    "\n",
    "%run includes/3-network-setup.ipynb\n",
    "networks_df= load_dataframe('networks_df')\n",
    "num_interconnects = load_object('num_interconnects')\n",
    "num_vpns = load_object('num_vpns')\n",
    "num_external_vpn_gateways = load_object('num_external_vpn_gateways')\n",
    "num_vpn_tunnels = load_object('num_vpn_tunnels')\n",
    "num_firewalls = load_object('num_firewalls')\n",
    "num_public_fws = load_object('num_public_fws')\n",
    "num_forwarding_rules = load_object('num_forwarding_rules')"
   ]
  },
  {
   "cell_type": "markdown",
   "metadata": {},
   "source": [
    "# Network Summary\n",
    "Summary reports on networking resources deployed across the GCP estate."
   ]
  },
  {
   "cell_type": "code",
   "execution_count": null,
   "metadata": {},
   "outputs": [],
   "source": [
    "\n",
    "# show network summary data\n",
    "show_network_summary_cards(networks_df, num_interconnects, num_vpns, num_external_vpn_gateways, num_vpn_tunnels, num_firewalls, num_public_fws, num_forwarding_rules)"
   ]
  },
  {
   "cell_type": "markdown",
   "metadata": {},
   "source": []
  }
 ],
 "metadata": {
  "language_info": {
   "name": "python"
  },
  "orig_nbformat": 4
 },
 "nbformat": 4,
 "nbformat_minor": 2
}
