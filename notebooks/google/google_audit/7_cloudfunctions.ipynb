{
 "cells": [
  {
   "cell_type": "code",
   "execution_count": null,
   "metadata": {},
   "outputs": [],
   "source": [
    "\n",
    "%run includes/7-cloudfunctions-setup.ipynb"
   ]
  },
  {
   "cell_type": "code",
   "execution_count": null,
   "metadata": {},
   "outputs": [],
   "source": [
    "\n",
    "# cloud functions\n",
    "locations_queries = [\n",
    "    f\"\"\"\n",
    "    SELECT locationId,\n",
    "    '{project}' as project\n",
    "    FROM google.cloudfunctions.locations WHERE projectsId = '{project}'\n",
    "    \"\"\"\n",
    "    for project in all_projects\n",
    "]\n",
    "\n",
    "locations_df = run_stackql_queries(locations_queries)\n",
    "# locations = locations_df['locationId'].unique().tolist()\n",
    "locations = ['australia-southeast1']\n",
    "cf_projects = locations_df['project'].unique().tolist()\n",
    "\n",
    "functions_queries = [\n",
    "    f\"\"\"\n",
    "    SELECT \n",
    "    SPLIT_PART(name, '/', 6) as name,\n",
    "    description,\n",
    "    url,\n",
    "    '{project}' as project,\n",
    "    '{location}' as location,\n",
    "    JSON_EXTRACT(buildConfig, '$.runtime') as runtime,\n",
    "    JSON_EXTRACT(serviceConfig, '$.availableMemory') as availableMemory,\n",
    "    JSON_EXTRACT(serviceConfig, '$.revision') as revision,\n",
    "    JSON_EXTRACT(serviceConfig, '$.timeoutSeconds') as timeoutSeconds,\n",
    "    JSON_EXTRACT(serviceConfig, '$.serviceAccountEmail') as serviceAccountEmail,\n",
    "    JSON_EXTRACT(serviceConfig, '$.ingressSettings') as ingressSettings,\n",
    "    JSON_EXTRACT(serviceConfig, '$.maxInstanceCount') as maxInstanceCount,\n",
    "    JSON_EXTRACT(serviceConfig, '$.maxInstanceRequestConcurrency') as maxInstanceRequestConcurrency,\n",
    "    JSON_EXTRACT(serviceConfig, '$.environmentVariables') as environmentVariables,\n",
    "    eventTrigger,\n",
    "    state,\n",
    "    stateMessages,\n",
    "    environment,\n",
    "    kmsKeyName,\n",
    "    satisfiesPzs,\n",
    "    labels\n",
    "    FROM google.cloudfunctions.functions WHERE projectsId = '{project}' AND locationsId = '{location}'\n",
    "    \"\"\"\n",
    "    for project in cf_projects\n",
    "    for location in locations\n",
    "]\n",
    "functions_df = run_stackql_queries(functions_queries)"
   ]
  },
  {
   "cell_type": "markdown",
   "metadata": {},
   "source": [
    "## Function Summary"
   ]
  },
  {
   "cell_type": "code",
   "execution_count": null,
   "metadata": {},
   "outputs": [],
   "source": [
    "\n",
    "# Plot functions by project\n",
    "plot_functions_by_project(functions_df)\n",
    "# Plot functions by location, runtime and available memory\n",
    "plot_all_side_by_side(functions_df)"
   ]
  },
  {
   "cell_type": "markdown",
   "metadata": {},
   "source": [
    "## Function Details"
   ]
  },
  {
   "cell_type": "code",
   "execution_count": null,
   "metadata": {},
   "outputs": [],
   "source": [
    "\n",
    "# function details\n",
    "functions_df"
   ]
  }
 ],
 "metadata": {
  "language_info": {
   "name": "python"
  },
  "orig_nbformat": 4
 },
 "nbformat": 4,
 "nbformat_minor": 2
}
