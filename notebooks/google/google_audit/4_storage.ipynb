{
 "cells": [
  {
   "cell_type": "code",
   "execution_count": null,
   "metadata": {},
   "outputs": [],
   "source": [
    "%run includes/4-storage-setup.ipynb"
   ]
  },
  {
   "cell_type": "markdown",
   "metadata": {},
   "source": [
    "# Storage\n",
    "Summary and detail reports on storage buckets and objects deployed across the GCP estate."
   ]
  },
  {
   "cell_type": "code",
   "execution_count": null,
   "metadata": {},
   "outputs": [],
   "source": [
    "\n",
    "# get buckets\n",
    "queries = [\n",
    "    f\"\"\"\n",
    "    SELECT \n",
    "    name,\n",
    "    '{project}' as project,\n",
    "    location,\n",
    "    locationType,\n",
    "    storageClass,\n",
    "    defaultEventBasedHold,\n",
    "    labels,\n",
    "    satisfiesPZS,\n",
    "    acl,\n",
    "    customPlacementConfig,\n",
    "    versioning,\n",
    "    billing,\n",
    "    lifecycle,\t\n",
    "    encryption,\n",
    "    website,\n",
    "    retentionPolicy,\n",
    "    autoclass,\n",
    "    rpo,\n",
    "    cors,\n",
    "    updated,\n",
    "    metageneration,\n",
    "    defaultObjectAcl,\n",
    "    iamConfiguration,\n",
    "    logging\n",
    "    FROM google.storage.buckets WHERE project = '{project}'\n",
    "    \"\"\"\n",
    "    for project in all_projects\n",
    "]\n",
    "buckets_df = run_stackql_queries(queries)\n",
    "storage_projects = list(buckets_df['project'].unique())\n",
    "buckets = list(buckets_df['name'].unique())\n",
    "\n",
    "# public access enforcement\n",
    "public_access_queries = [\n",
    "    f\"\"\"\n",
    "    SELECT name, \n",
    "    JSON_EXTRACT(iamConfiguration, '$.publicAccessPrevention') as publicAccessPrevention\n",
    "    FROM google.storage.buckets WHERE project = '{project}'\n",
    "    \"\"\"\n",
    "    for project in all_projects\n",
    "]\n",
    "public_access_df = run_stackql_queries(public_access_queries)\n",
    "\n",
    "# get object summary\n",
    "object_queries = [\n",
    "    f\"\"\"\n",
    "    SELECT COUNT(id) as object_count,\n",
    "    '{bucket}' as bucket\n",
    "    FROM google.storage.objects WHERE bucket = '{bucket}'\n",
    "    \"\"\"\n",
    "    for bucket in buckets\n",
    "]\n",
    "object_counts_df = run_stackql_queries(object_queries)"
   ]
  },
  {
   "cell_type": "markdown",
   "metadata": {},
   "source": [
    "## Storage Summary"
   ]
  },
  {
   "cell_type": "code",
   "execution_count": null,
   "metadata": {},
   "outputs": [],
   "source": [
    "\n",
    "# show storage counts\n",
    "show_storage_summary_cards(buckets_df, object_counts_df, public_access_df)"
   ]
  },
  {
   "cell_type": "markdown",
   "metadata": {},
   "source": [
    "## Bucket and Object Inventory"
   ]
  },
  {
   "cell_type": "code",
   "execution_count": null,
   "metadata": {},
   "outputs": [],
   "source": [
    "\n",
    "# bucket counts\n",
    "plot_buckets_per_project(buckets_df)"
   ]
  },
  {
   "cell_type": "code",
   "execution_count": null,
   "metadata": {},
   "outputs": [],
   "source": [
    "\n",
    "# object counts\n",
    "plot_object_counts(object_counts_df, 20)"
   ]
  },
  {
   "cell_type": "markdown",
   "metadata": {},
   "source": [
    "## Bucket Details"
   ]
  },
  {
   "cell_type": "code",
   "execution_count": null,
   "metadata": {},
   "outputs": [],
   "source": [
    "\n",
    "# show buckets\n",
    "buckets_df"
   ]
  }
 ],
 "metadata": {
  "language_info": {
   "name": "python"
  },
  "orig_nbformat": 4
 },
 "nbformat": 4,
 "nbformat_minor": 2
}
