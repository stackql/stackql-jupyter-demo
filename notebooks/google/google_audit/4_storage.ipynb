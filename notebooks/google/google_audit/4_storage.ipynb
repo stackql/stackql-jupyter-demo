{
 "cells": [
  {
   "cell_type": "code",
   "execution_count": null,
   "metadata": {},
   "outputs": [],
   "source": [
    "%run includes/4-storage-setup.ipynb"
   ]
  },
  {
   "cell_type": "markdown",
   "metadata": {},
   "source": [
    "# Storage\n",
    "Summary and detail reports on storage buckets and objects deployed across the GCP estate."
   ]
  },
  {
   "cell_type": "code",
   "execution_count": null,
   "metadata": {},
   "outputs": [],
   "source": [
    "\n",
    "# get buckets\n",
    "queries = [\n",
    "    f\"\"\"\n",
    "    SELECT *,\n",
    "    '{project}' as project\n",
    "    FROM google.storage.buckets WHERE project = '{project}'\n",
    "    \"\"\"\n",
    "    for project in all_projects\n",
    "]\n",
    "\n",
    "buckets_df = run_stackql_queries(queries)\n",
    "storage_projects = list(buckets_df['project'].unique())\n",
    "buckets = list(buckets_df['name'].unique())\n",
    "\n",
    "    # AND name IS NOT NULL\n"
   ]
  },
  {
   "cell_type": "code",
   "execution_count": null,
   "metadata": {},
   "outputs": [],
   "source": [
    "\n",
    "# get object summary\n",
    "queries = [\n",
    "    f\"\"\"\n",
    "    SELECT COUNT(id) as object_count,\n",
    "    '{bucket}' as bucket\n",
    "    FROM google.storage.objects WHERE bucket = '{bucket}'\n",
    "    \"\"\"\n",
    "    for bucket in buckets\n",
    "]\n",
    "\n",
    "object_counts_df = run_stackql_queries(queries)"
   ]
  }
 ],
 "metadata": {
  "language_info": {
   "name": "python"
  },
  "orig_nbformat": 4
 },
 "nbformat": 4,
 "nbformat_minor": 2
}
