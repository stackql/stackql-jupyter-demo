{
 "cells": [
  {
   "cell_type": "code",
   "execution_count": null,
   "metadata": {},
   "outputs": [],
   "source": [
    "\n",
    "%run includes/3-network-setup.ipynb"
   ]
  },
  {
   "cell_type": "markdown",
   "metadata": {},
   "source": [
    "# Networks (Networks and Subnetworks)\n",
    "Summary and detail reports on networks and subnetworks deployed across the GCP estate.\n",
    "\n",
    "## Networks"
   ]
  },
  {
   "cell_type": "code",
   "execution_count": null,
   "metadata": {},
   "outputs": [],
   "source": [
    "\n",
    "# get and show networks\n",
    "network_queries = [\n",
    "    f\"\"\"\n",
    "    SELECT name,\n",
    "    '{project}' as project,\n",
    "    mtu,\n",
    "    networkFirewallPolicyEnforcementOrder as fwPolicyEnforcementOrder,\n",
    "    JSON_ARRAY_LENGTH(peerings) as num_peerings,\n",
    "    peerings,\n",
    "    JSON_EXTRACT(routingConfig, '$.routingMode') as routingMode,\n",
    "    JSON_ARRAY_LENGTH(subnetworks) as num_subnets\n",
    "    FROM google.compute.networks WHERE project = '{project}'\n",
    "    AND name IS NOT NULL\n",
    "    \"\"\"\n",
    "    for project in all_projects\n",
    "]\n",
    "networks_df = run_stackql_queries(network_queries)\n",
    "networked_projects = list(networks_df['project'].unique())\n",
    "networks_df"
   ]
  },
  {
   "cell_type": "markdown",
   "metadata": {},
   "source": [
    "## Subnetworks"
   ]
  },
  {
   "cell_type": "code",
   "execution_count": null,
   "metadata": {},
   "outputs": [],
   "source": [
    "\n",
    "# get and show subnetworks\n",
    "queries = [\n",
    "    f\"\"\"\n",
    "    SELECT \n",
    "    name,\n",
    "    SPLIT_PART(region, '/', 9) as region,\n",
    "    SPLIT_PART(network, '/', 10) as network,\n",
    "    '{project}' as project,\n",
    "    stackType,\n",
    "    ipCidrRange,\n",
    "    secondaryIpRanges,\n",
    "    gatewayAddress,\n",
    "    ipv6CidrRange,\n",
    "    purpose,\n",
    "    enableFlowLogs,\n",
    "    privateIpGoogleAccess\n",
    "    FROM google.compute.subnetworks WHERE project = '{project}'\n",
    "    \"\"\"\n",
    "    for project in networked_projects\n",
    "]\n",
    "subnetworks_df = run_stackql_queries(queries)\n",
    "subnetworks_df"
   ]
  },
  {
   "cell_type": "markdown",
   "metadata": {},
   "source": [
    "### Subnet IAM Policies"
   ]
  },
  {
   "cell_type": "code",
   "execution_count": null,
   "metadata": {},
   "outputs": [],
   "source": [
    "\n",
    "# get subnet iam policies\n",
    "queries = [\n",
    "    f\"\"\"\n",
    "    SELECT \n",
    "    '{row['name']}' as subnet\n",
    "    ,'{row['project']}' as project\n",
    "    ,'{row['region']}'  as region\n",
    "    , role\n",
    "    , condition\n",
    "    , SPLIT_PART(members.value, ':', 1) as member_type\n",
    "    , SPLIT_PART(members.value, ':', 2) as member\n",
    "    FROM google.compute.subnetworks_iam_policies, json_each(members) members\n",
    "    WHERE project = '{row['project']}' AND region = '{row['region']}' AND resource = '{row['name']}'\n",
    "    \"\"\"\n",
    "    for _, row in subnetworks_df.iterrows()\n",
    "]\n",
    "subnetworks_bindings_df = run_stackql_queries(queries)\n",
    "subnetworks_bindings_df"
   ]
  },
  {
   "cell_type": "markdown",
   "metadata": {},
   "source": [
    "## Network Peerings"
   ]
  },
  {
   "cell_type": "code",
   "execution_count": null,
   "metadata": {},
   "outputs": [],
   "source": [
    "\n",
    "# get network peerings\n",
    "network_peering_queries = [\n",
    "    f\"\"\"\n",
    "    SELECT \n",
    "    JSON_EXTRACT(peerings.value, '$.name') as peering_name,\n",
    "    name,\n",
    "    SPLIT_PART(JSON_EXTRACT(peerings.value, '$.network'), '/', 10) as peering_network,\n",
    "    '{project}' as project,\n",
    "    IIF((JSON_EXTRACT(peerings.value, '$.autoCreateRoutes') = 1), 'true', 'false') as autoCreateRoutes,\n",
    "    IIF((JSON_EXTRACT(peerings.value, '$.exchangeSubnetRoutes') = 1), 'true', 'false') as exchangeSubnetRoutes,\n",
    "    IIF((JSON_EXTRACT(peerings.value, '$.importCustomRoutes') = 1), 'true', 'false') as importCustomRoutes,\n",
    "    IIF((JSON_EXTRACT(peerings.value, '$.exportCustomRoutes') = 1), 'true', 'false') as exportCustomRoutes,\n",
    "    IIF((JSON_EXTRACT(peerings.value, '$.importSubnetRoutesWithPublicIp') = 1), 'true', 'false') as importSubnetRoutesWithPublicIp,\n",
    "    IIF((JSON_EXTRACT(peerings.value, '$.exportSubnetRoutesWithPublicIp') = 1), 'true', 'false') as exportSubnetRoutesWithPublicIp,\n",
    "    JSON_EXTRACT(peerings.value, '$.stackType') as stackType,\n",
    "    JSON_EXTRACT(peerings.value, '$.state') as state,\n",
    "    JSON_EXTRACT(peerings.value, '$.stateDetails') as stateDetails\n",
    "    FROM google.compute.networks, json_each(peerings) peerings\n",
    "    WHERE project = '{project}'\n",
    "    AND peerings IS NOT NULL\n",
    "    \"\"\"\n",
    "    for project in networked_projects\n",
    "]\n",
    "network_peerings_df = run_stackql_queries(network_peering_queries)\n",
    "network_peerings_df"
   ]
  },
  {
   "cell_type": "markdown",
   "metadata": {},
   "source": [
    "### Network Peering Graph"
   ]
  },
  {
   "cell_type": "code",
   "execution_count": null,
   "metadata": {},
   "outputs": [],
   "source": [
    "\n",
    "# graph peerings\n",
    "graph_network_peerings(network_peerings_df)"
   ]
  },
  {
   "cell_type": "markdown",
   "metadata": {},
   "source": [
    "## Shared VPC"
   ]
  },
  {
   "cell_type": "code",
   "execution_count": null,
   "metadata": {},
   "outputs": [],
   "source": [
    "\n",
    "# get xpn networks\n",
    "queries = [\n",
    "    f\"\"\"\n",
    "   SELECT \n",
    "   name \n",
    "   FROM \n",
    "   google.compute.projects\n",
    "   WHERE project =  '{project}' AND xpnProjectStatus = 'HOST'\n",
    "    \"\"\"\n",
    "    for project in networked_projects\n",
    "]\n",
    "xpn_hosts_df = run_stackql_queries(queries)\n",
    "xpn_hosts = xpn_hosts_df['name'].tolist()\n",
    "\n",
    "queries = [\n",
    "    f\"\"\"\n",
    "   SELECT \n",
    "   id as serviceProject\n",
    "   ,'{project}' as hostProject\n",
    "   FROM \n",
    "   google.compute.xpn_resources\n",
    "   WHERE project =  '{project}'\n",
    "    \"\"\"\n",
    "    for project in xpn_hosts\n",
    "]\n",
    "xpn_resources_df = run_stackql_queries(queries)"
   ]
  },
  {
   "cell_type": "code",
   "execution_count": null,
   "metadata": {},
   "outputs": [],
   "source": [
    "\n",
    "# show tree\n",
    "tree = generate_xpn_tree(xpn_resources_df)\n",
    "tree"
   ]
  },
  {
   "cell_type": "markdown",
   "metadata": {},
   "source": [
    "## Addresses"
   ]
  },
  {
   "cell_type": "code",
   "execution_count": null,
   "metadata": {},
   "outputs": [],
   "source": [
    "\n",
    "# get addresses\n",
    "address_queries = [\n",
    "    f\"\"\"\n",
    "    SELECT \n",
    "    name,\n",
    "    '{project}' as project, \n",
    "    SPLIT_PART(network, '/', 10) as network,\n",
    "    SPLIT_PART(subnetwork, '/', 11) as subnetwork,\n",
    "    addressType,\n",
    "    address,\n",
    "    ipVersion,\n",
    "    ipv6EndpointType,\n",
    "    purpose,\n",
    "    labels,\n",
    "    status,\n",
    "    SPLIT_PART(JSON_EXTRACT(users, '$[0]'), '/', 11) as user,\n",
    "    networkTier\n",
    "    FROM google.compute.addresses WHERE project = '{project}'\n",
    "    \"\"\"\n",
    "    for project in networked_projects\n",
    "]\n",
    "addresses_df = run_stackql_queries(address_queries)\n",
    "\n",
    "global_address_queries = [\n",
    "    f\"\"\"\n",
    "    select \n",
    "    name,\n",
    "    description,\n",
    "    '{project}' as project,\n",
    "    SPLIT_PART(network, '/', 10) as network,\n",
    "    labels,\n",
    "    networkTier,\n",
    "    users,\n",
    "    addressType,\n",
    "    address,\n",
    "    purpose,\n",
    "    ipVersion,\n",
    "    prefixLength,\n",
    "    status,\n",
    "    subnetwork,\n",
    "    ipv6EndpointType\n",
    "    from google.compute.global_addresses where project = '{project}' and name is not null\n",
    "    \"\"\"\n",
    "    for project in networked_projects\n",
    "]\n",
    "global_address_df = run_stackql_queries(global_address_queries)"
   ]
  },
  {
   "cell_type": "markdown",
   "metadata": {},
   "source": [
    "### Address Details"
   ]
  },
  {
   "cell_type": "code",
   "execution_count": null,
   "metadata": {},
   "outputs": [],
   "source": [
    "\n",
    "# show addresses\n",
    "addresses_df"
   ]
  },
  {
   "cell_type": "markdown",
   "metadata": {},
   "source": [
    "### Global Address Details"
   ]
  },
  {
   "cell_type": "code",
   "execution_count": null,
   "metadata": {},
   "outputs": [],
   "source": [
    "\n",
    "# show global addresses\n",
    "global_address_df"
   ]
  }
 ],
 "metadata": {
  "kernelspec": {
   "display_name": "Python 3",
   "language": "python",
   "name": "python3"
  },
  "language_info": {
   "name": "python",
   "version": "3.11.0"
  },
  "orig_nbformat": 4
 },
 "nbformat": 4,
 "nbformat_minor": 2
}
