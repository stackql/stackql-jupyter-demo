{
 "cells": [
  {
   "cell_type": "code",
   "execution_count": null,
   "metadata": {},
   "outputs": [],
   "source": [
    "%run includes/3-network-setup.ipynb"
   ]
  },
  {
   "cell_type": "code",
   "execution_count": null,
   "metadata": {},
   "outputs": [],
   "source": [
    "\n",
    "# get networks\n",
    "queries = [\n",
    "    f\"\"\"\n",
    "    SELECT name,\n",
    "    '{project}' as project,\n",
    "    mtu,\n",
    "    networkFirewallPolicyEnforcementOrder as fwPolicyEnforcementOrder,\n",
    "    JSON_ARRAY_LENGTH(peerings) as num_peerings,\n",
    "    peerings,\n",
    "    JSON_EXTRACT(routingConfig, '$.routingMode') as routingMode,\n",
    "    subnetworks\n",
    "    FROM google.compute.networks WHERE project = '{project}'\n",
    "    AND name IS NOT NULL\n",
    "    \"\"\"\n",
    "    for project in compute_enabled_projects\n",
    "]\n",
    "\n",
    "networks_df = run_stackql_queries(queries)\n",
    "networked_projects = list(networks_df['project'].unique())\n",
    "networks_df"
   ]
  },
  {
   "cell_type": "code",
   "execution_count": null,
   "metadata": {},
   "outputs": [],
   "source": [
    "\n",
    "# network peerings\n",
    "networks_subset_df = networks_df[networks_df['peerings'] != 'null'][['name', 'peerings']].copy()\n",
    "network_peerings_df = explode_json_list_col(networks_subset_df, 'peerings', 'peering')\n",
    "network_peerings_df"
   ]
  },
  {
   "cell_type": "code",
   "execution_count": null,
   "metadata": {},
   "outputs": [],
   "source": [
    "\n",
    "# subnetworks\n",
    "queries = [\n",
    "    f\"\"\"\n",
    "    SELECT \n",
    "    name,\n",
    "    SPLIT_PART(region, '/', 9) as region,\n",
    "    SPLIT_PART(network, '/', 10) as network,\n",
    "    stackType,\n",
    "    ipCidrRange,\n",
    "    secondaryIpRanges,\n",
    "    gatewayAddress,\n",
    "    ipv6CidrRange,\n",
    "    purpose,\n",
    "    enableFlowLogs,\n",
    "    privateIpGoogleAccess\n",
    "    FROM google.compute.subnetworks WHERE project = '{project}'\n",
    "    \"\"\"\n",
    "    for project in networked_projects\n",
    "]\n",
    "\n",
    "subnetworks_df = run_stackql_queries(queries)\n",
    "subnetworks_df"
   ]
  },
  {
   "cell_type": "code",
   "execution_count": null,
   "metadata": {},
   "outputs": [],
   "source": [
    "\n",
    "# get interconnects\n",
    "queries = [\n",
    "    f\"\"\"\n",
    "    SELECT *\n",
    "    FROM google.compute.interconnects WHERE project = '{project}'\n",
    "    AND name IS NOT NULL\n",
    "    \"\"\"\n",
    "    for project in networked_projects\n",
    "]\n",
    "\n",
    "interconnects_df = run_stackql_queries(queries, True)\n",
    "interconnects_df"
   ]
  },
  {
   "cell_type": "code",
   "execution_count": null,
   "metadata": {},
   "outputs": [],
   "source": [
    "\n",
    "# get vpns\n",
    "queries = [\n",
    "    f\"\"\"\n",
    "    SELECT \n",
    "    name,\n",
    "    '{project}' as project, \n",
    "    SPLIT_PART(network, '/', 9) as network,\n",
    "    SPLIT_PART(region, '/', 8) as region,\n",
    "    vpnInterfaces\n",
    "    FROM google.compute.vpn_gateways WHERE project = '{project}'\n",
    "    \"\"\"\n",
    "    for project in networked_projects\n",
    "]\n",
    "\n",
    "vpns_df = run_stackql_queries(queries, True)\n",
    "vpns_df"
   ]
  },
  {
   "cell_type": "code",
   "execution_count": null,
   "metadata": {},
   "outputs": [],
   "source": [
    "\n",
    "# Convert the string to list of dictionaries and explode\n",
    "exploded_df = vpns_df.assign(vpnInterfaces=vpns_df['vpnInterfaces'].apply(ast.literal_eval)).explode('vpnInterfaces')\n",
    "exploded_df[['id', 'ipAddress']] = exploded_df['vpnInterfaces'].apply(pd.Series)\n",
    "exploded_df.drop(columns=['vpnInterfaces'], inplace=True)\n",
    "exploded_df"
   ]
  },
  {
   "cell_type": "code",
   "execution_count": null,
   "metadata": {},
   "outputs": [],
   "source": [
    "\n",
    "# get addresses\n",
    "queries = [\n",
    "    f\"\"\"\n",
    "    SELECT \n",
    "    id,\n",
    "    name,\n",
    "    '{project}' as project, \n",
    "    SPLIT_PART(network, '/', 9) as network,\n",
    "    SPLIT_PART(subnetwork, '/', 11) as subnetwork,\n",
    "    addressType,\n",
    "    ipVersion,\n",
    "    ipv6EndpointType,\n",
    "    purpose,\n",
    "    labels,\n",
    "    status,\n",
    "    users,\n",
    "    networkTier\n",
    "    FROM google.compute.addresses WHERE project = '{project}'\n",
    "    \"\"\"\n",
    "    for project in networked_projects\n",
    "]\n",
    "\n",
    "addresses_df = run_stackql_queries(queries, True)\n",
    "addresses_df"
   ]
  }
 ],
 "metadata": {
  "language_info": {
   "name": "python"
  },
  "orig_nbformat": 4
 },
 "nbformat": 4,
 "nbformat_minor": 2
}
