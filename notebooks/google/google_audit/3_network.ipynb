{
 "cells": [
  {
   "cell_type": "code",
   "execution_count": null,
   "metadata": {},
   "outputs": [],
   "source": [
    "\n",
    "%run includes/3-network-setup.ipynb"
   ]
  },
  {
   "cell_type": "markdown",
   "metadata": {},
   "source": [
    "# Networks\n",
    "Summary and detail reports on networks and subnetworks deployed across the GCP estate."
   ]
  },
  {
   "cell_type": "code",
   "execution_count": null,
   "metadata": {},
   "outputs": [],
   "source": [
    "\n",
    "# get networks\n",
    "network_queries = [\n",
    "    f\"\"\"\n",
    "    SELECT name,\n",
    "    '{project}' as project,\n",
    "    mtu,\n",
    "    networkFirewallPolicyEnforcementOrder as fwPolicyEnforcementOrder,\n",
    "    JSON_ARRAY_LENGTH(peerings) as num_peerings,\n",
    "    peerings,\n",
    "    JSON_EXTRACT(routingConfig, '$.routingMode') as routingMode,\n",
    "    JSON_ARRAY_LENGTH(subnetworks) as num_subnets\n",
    "    FROM google.compute.networks WHERE project = '{project}'\n",
    "    AND name IS NOT NULL\n",
    "    \"\"\"\n",
    "    for project in compute_enabled_projects\n",
    "]\n",
    "networks_df = run_stackql_queries(network_queries)\n",
    "networked_projects = list(networks_df['project'].unique())\n",
    "\n",
    "# get interconnects\n",
    "interconnect_queries = [\n",
    "    f\"\"\"\n",
    "    SELECT *\n",
    "    FROM google.compute.interconnects WHERE project = '{project}'\n",
    "    AND name IS NOT NULL\n",
    "    \"\"\"\n",
    "    for project in networked_projects\n",
    "]\n",
    "interconnects_df = run_stackql_queries(interconnect_queries)\n",
    "\n",
    "# get vpns\n",
    "vpn_queries = [\n",
    "    f\"\"\"\n",
    "    SELECT\n",
    "    name,\n",
    "    '{project}' as project, \n",
    "    SPLIT_PART(network, '/', 9) as network,\n",
    "    SPLIT_PART(region, '/', 8) as region,\n",
    "    JSON_ARRAY(JSON_EXTRACT(vpnInterfaces, '$[0].ipAddress'), JSON_EXTRACT(vpnInterfaces, '$[1].ipAddress')) as ip_addresses\n",
    "    FROM google.compute.vpn_gateways WHERE project = '{project}'\n",
    "    \"\"\"\n",
    "    for project in networked_projects\n",
    "]\n",
    "vpns_df = run_stackql_queries(vpn_queries)\n",
    "\n",
    "external_vpn_gateways_queries = [\n",
    "    f\"\"\"\n",
    "    select \n",
    "    name\n",
    "    ,description\n",
    "    ,JSON_ARRAY_LENGTH(interfaces) as num_interfaces\n",
    "    ,JSON_ARRAY(JSON_EXTRACT(interfaces, '$[0].ipAddress'), JSON_EXTRACT(interfaces, '$[1].ipAddress'), JSON_EXTRACT(interfaces, '$[2].ipAddress'), JSON_EXTRACT(interfaces, '$[3].ipAddress')) as ip_addresses\n",
    "    ,redundancyType\n",
    "    ,labels \n",
    "    from google.compute.external_vpn_gateways where project = '{project}'\n",
    "    and name is not null\n",
    "    \"\"\"\n",
    "    for project in networked_projects\n",
    "]\n",
    "external_vpn_gateways_df = run_stackql_queries(external_vpn_gateways_queries)\n",
    "\n",
    "# get firewalls\n",
    "firewall_queries = [\n",
    "    f\"\"\"\n",
    "    select \n",
    "    name\n",
    "    ,sourceRanges\n",
    "    ,destinationRanges\n",
    "    ,sourceServiceAccounts\n",
    "    ,sourceTags\n",
    "    ,targetServiceAccounts\n",
    "    ,targetTags\n",
    "    ,denied\n",
    "    ,direction\n",
    "    ,SPLIT_PART(network, '/', 10) as network\n",
    "    ,allowed\n",
    "    ,priority\n",
    "    ,disabled\n",
    "    ,logConfig\n",
    "    ,description\n",
    "    from google.compute.firewalls where project = '{project}' and name is not null\n",
    "    \"\"\"\n",
    "    for project in networked_projects\n",
    "]\n",
    "firewalls_df = run_stackql_queries(firewall_queries)\n",
    "\n",
    "# forwarding rules\n",
    "forwarding_rule_queries = [\n",
    "    f\"\"\"\n",
    "    select * from google.compute.forwarding_rules where project = '{project}'\n",
    "    \"\"\"\n",
    "    for project in networked_projects\n",
    "]\n",
    "forwarding_rule_df = run_stackql_queries(forwarding_rule_queries)\n",
    "forwarding_rule_df"
   ]
  },
  {
   "cell_type": "markdown",
   "metadata": {},
   "source": [
    "## Network Summary"
   ]
  },
  {
   "cell_type": "code",
   "execution_count": null,
   "metadata": {},
   "outputs": [],
   "source": [
    "\n",
    "# show network summary data\n",
    "show_network_summary_cards(networks_df, len(interconnects_df), len(vpns_df), len(external_vpn_gateways_df), len(firewalls_df))"
   ]
  },
  {
   "cell_type": "markdown",
   "metadata": {},
   "source": [
    "## Network Peerings"
   ]
  },
  {
   "cell_type": "code",
   "execution_count": null,
   "metadata": {},
   "outputs": [],
   "source": [
    "\n",
    "# get network peerings\n",
    "networks_subset_df = networks_df[networks_df['peerings'] != 'null'][['name', 'peerings']].copy()\n",
    "network_peerings_df = (explode_json_list_col(networks_subset_df, 'peerings', 'peering')\n",
    "                       .assign(peering_network=lambda x: x['peering_network'].str.split('/').str[-1])\n",
    "                      )"
   ]
  },
  {
   "cell_type": "markdown",
   "metadata": {},
   "source": [
    "### Network Peering Graph"
   ]
  },
  {
   "cell_type": "code",
   "execution_count": null,
   "metadata": {},
   "outputs": [],
   "source": [
    "\n",
    "# graph peerings\n",
    "graph_network_peerings(network_peerings_df)"
   ]
  },
  {
   "cell_type": "markdown",
   "metadata": {},
   "source": [
    "### Network Peering Details"
   ]
  },
  {
   "cell_type": "code",
   "execution_count": null,
   "metadata": {},
   "outputs": [],
   "source": [
    "\n",
    "# show network peering details\n",
    "network_peerings_df"
   ]
  },
  {
   "cell_type": "markdown",
   "metadata": {},
   "source": [
    "## Subnetworks"
   ]
  },
  {
   "cell_type": "code",
   "execution_count": null,
   "metadata": {},
   "outputs": [],
   "source": [
    "\n",
    "# get and show subnetworks\n",
    "queries = [\n",
    "    f\"\"\"\n",
    "    SELECT \n",
    "    name,\n",
    "    SPLIT_PART(region, '/', 9) as region,\n",
    "    SPLIT_PART(network, '/', 10) as network,\n",
    "    stackType,\n",
    "    ipCidrRange,\n",
    "    secondaryIpRanges,\n",
    "    gatewayAddress,\n",
    "    ipv6CidrRange,\n",
    "    purpose,\n",
    "    enableFlowLogs,\n",
    "    privateIpGoogleAccess\n",
    "    FROM google.compute.subnetworks WHERE project = '{project}'\n",
    "    \"\"\"\n",
    "    for project in networked_projects\n",
    "]\n",
    "\n",
    "subnetworks_df = run_stackql_queries(queries)\n",
    "subnetworks_df"
   ]
  },
  {
   "cell_type": "markdown",
   "metadata": {},
   "source": [
    "## Addresses"
   ]
  },
  {
   "cell_type": "code",
   "execution_count": null,
   "metadata": {},
   "outputs": [],
   "source": [
    "\n",
    "# get addresses\n",
    "address_queries = [\n",
    "    f\"\"\"\n",
    "    SELECT \n",
    "    id,\n",
    "    name,\n",
    "    '{project}' as project, \n",
    "    SPLIT_PART(network, '/', 9) as network,\n",
    "    SPLIT_PART(subnetwork, '/', 11) as subnetwork,\n",
    "    addressType,\n",
    "    address,\n",
    "    ipVersion,\n",
    "    ipv6EndpointType,\n",
    "    purpose,\n",
    "    labels,\n",
    "    status,\n",
    "    users,\n",
    "    networkTier\n",
    "    FROM google.compute.addresses WHERE project = '{project}'\n",
    "    \"\"\"\n",
    "    for project in networked_projects\n",
    "]\n",
    "addresses_df = run_stackql_queries(address_queries)\n",
    "\n",
    "global_address_queries = [\n",
    "    f\"\"\"\n",
    "    select * from google.compute.global_addresses where project = '{project}' and name is not null\n",
    "    \"\"\"\n",
    "    for project in networked_projects\n",
    "]\n",
    "global_address_df = run_stackql_queries(global_address_queries)"
   ]
  },
  {
   "cell_type": "markdown",
   "metadata": {},
   "source": [
    "### Address Details"
   ]
  },
  {
   "cell_type": "code",
   "execution_count": null,
   "metadata": {},
   "outputs": [],
   "source": [
    "\n",
    "# show addresses\n",
    "addresses_df"
   ]
  },
  {
   "cell_type": "markdown",
   "metadata": {},
   "source": [
    "### Global Address Details"
   ]
  },
  {
   "cell_type": "code",
   "execution_count": null,
   "metadata": {},
   "outputs": [],
   "source": [
    "\n",
    "# show global addresses\n",
    "global_address_df"
   ]
  },
  {
   "cell_type": "markdown",
   "metadata": {},
   "source": [
    "## Hybrid Connectivity"
   ]
  },
  {
   "cell_type": "code",
   "execution_count": null,
   "metadata": {},
   "outputs": [],
   "source": [
    "\n",
    "# vpn tunnels\n",
    "vpn_tunnels_queries = [\n",
    "    f\"\"\"\n",
    "    select * from google.compute.vpn_tunnels where project = '{project}'\n",
    "    \"\"\"\n",
    "    for project in networked_projects\n",
    "]\n",
    "vpn_tunnels_df = run_stackql_queries(vpn_tunnels_queries)"
   ]
  },
  {
   "cell_type": "markdown",
   "metadata": {},
   "source": [
    "### VPN Gateways"
   ]
  },
  {
   "cell_type": "code",
   "execution_count": null,
   "metadata": {},
   "outputs": [],
   "source": [
    "\n",
    "# show vpn gateways\n",
    "vpns_df"
   ]
  },
  {
   "cell_type": "markdown",
   "metadata": {},
   "source": [
    "### External VPN Gateways"
   ]
  },
  {
   "cell_type": "code",
   "execution_count": null,
   "metadata": {},
   "outputs": [],
   "source": [
    "\n",
    "# show external vpn gateways\n",
    "external_vpn_gateways_df"
   ]
  },
  {
   "cell_type": "markdown",
   "metadata": {},
   "source": [
    "### VPN Tunnels"
   ]
  },
  {
   "cell_type": "code",
   "execution_count": null,
   "metadata": {},
   "outputs": [],
   "source": [
    "\n",
    "# show vpn tunnels\n",
    "vpn_tunnels_df"
   ]
  },
  {
   "cell_type": "markdown",
   "metadata": {},
   "source": [
    "## Firewalls"
   ]
  },
  {
   "cell_type": "code",
   "execution_count": null,
   "metadata": {},
   "outputs": [],
   "source": [
    "\n",
    "# show firewalls\n",
    "firewalls_df"
   ]
  },
  {
   "cell_type": "markdown",
   "metadata": {},
   "source": [
    "## Routers and Routes"
   ]
  },
  {
   "cell_type": "code",
   "execution_count": null,
   "metadata": {},
   "outputs": [],
   "source": [
    "\n",
    "# routers\n",
    "routers_queries = [\n",
    "    f\"\"\"\n",
    "    select \n",
    "    name\n",
    "    ,description\n",
    "    ,SPLIT_PART(region, '/', 9) as region\t\n",
    "    ,SPLIT_PART(network, '/', 10) as network\n",
    "    ,nats\n",
    "    ,bgp\n",
    "    ,bgpPeers\n",
    "    ,JSON_ARRAY_LENGTH(interfaces) as num_interfaces\n",
    "    ,interfaces\n",
    "    ,encryptedInterconnectRouter\n",
    "    ,md5AuthenticationKeys\t\t \t\n",
    "    from google.compute.routers where project = '{project}'\n",
    "    \"\"\"\n",
    "    for project in networked_projects\n",
    "]\n",
    "routers_df = run_stackql_queries(routers_queries)\n",
    "\n",
    "routes_queries = [\n",
    "    f\"\"\"\n",
    "    select \n",
    "    name\n",
    "    ,description\n",
    "    ,'{project}' as project\n",
    "    ,SPLIT_PART(network, '/', 10) as network\n",
    "    ,SPLIT_PART(nextHopInstance, '/', 11) as nextHopInstance\n",
    "    ,tags\n",
    "    ,nextHopIlb\t\n",
    "    ,destRange\t\n",
    "    ,nextHopHub\t\n",
    "    ,SPLIT_PART(nextHopGateway, '/', 10) as nextHopGateway\n",
    "    ,routeStatus\n",
    "    ,priority\n",
    "    ,nextHopVpnTunnel\n",
    "    ,routeType\n",
    "    ,nextHopIp\n",
    "    ,warnings\n",
    "    ,creationTimestamp\n",
    "    ,asPaths\n",
    "    ,nextHopPeering\n",
    "    ,SPLIT_PART(nextHopNetwork, '/', 10) as nextHopNetwork\n",
    "    from google.compute.routes where project = '{project}'\n",
    "    \"\"\"\n",
    "    for project in networked_projects\n",
    "]\n",
    "routes_df = run_stackql_queries(routes_queries)"
   ]
  },
  {
   "cell_type": "markdown",
   "metadata": {},
   "source": [
    "### Routers"
   ]
  },
  {
   "cell_type": "code",
   "execution_count": null,
   "metadata": {},
   "outputs": [],
   "source": [
    "\n",
    "# show routers\n",
    "routers_df"
   ]
  },
  {
   "cell_type": "markdown",
   "metadata": {},
   "source": [
    "### Routes"
   ]
  },
  {
   "cell_type": "code",
   "execution_count": null,
   "metadata": {},
   "outputs": [],
   "source": [
    "\n",
    "# show routes\n",
    "routes_df"
   ]
  }
 ],
 "metadata": {
  "kernelspec": {
   "display_name": "Python 3",
   "language": "python",
   "name": "python3"
  },
  "language_info": {
   "name": "python",
   "version": "3.11.0"
  },
  "orig_nbformat": 4
 },
 "nbformat": 4,
 "nbformat_minor": 2
}
