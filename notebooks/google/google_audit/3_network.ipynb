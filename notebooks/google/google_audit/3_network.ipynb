{
 "cells": [
  {
   "cell_type": "code",
   "execution_count": null,
   "metadata": {},
   "outputs": [],
   "source": [
    "%run includes/3-network-setup.ipynb"
   ]
  },
  {
   "cell_type": "code",
   "execution_count": null,
   "metadata": {},
   "outputs": [],
   "source": [
    "\n",
    "# get networks\n",
    "queries = [\n",
    "    f\"\"\"\n",
    "    SELECT name,\n",
    "    '{project}' as project,\n",
    "    mtu,\n",
    "    networkFirewallPolicyEnforcementOrder as fwPolicyEnforcementOrder,\n",
    "    peerings,\n",
    "    JSON_EXTRACT(routingConfig, '$.routingMode') as routingMode,\n",
    "    subnetworks\n",
    "    FROM google.compute.networks WHERE project = '{project}'\n",
    "    \"\"\"\n",
    "    for project in compute_enabled_projects\n",
    "]\n",
    "\n",
    "networks_df = (lambda df: df[df['name'] != 'null'])(run_stackql_queries(queries))\n",
    "networks_df"
   ]
  },
  {
   "cell_type": "code",
   "execution_count": null,
   "metadata": {},
   "outputs": [],
   "source": [
    "\n",
    "# network peerings\n",
    "networks_subset_df = networks_df[networks_df['peerings'] != 'null'][['name', 'peerings']].copy()\n",
    "network_peerings_df = explode_json_list_col(networks_subset_df, 'peerings', 'peering')\n",
    "network_peerings_df"
   ]
  },
  {
   "cell_type": "code",
   "execution_count": null,
   "metadata": {},
   "outputs": [],
   "source": [
    "\n",
    "# subnetworks\n",
    "queries = [\n",
    "    f\"\"\"\n",
    "    SELECT \n",
    "    name,\n",
    "    SPLIT_PART(region, '/', 9) as region,\n",
    "    SPLIT_PART(network, '/', 10) as network,\n",
    "    stackType,\n",
    "    ipCidrRange,\n",
    "    secondaryIpRanges,\n",
    "    gatewayAddress,\n",
    "    ipv6CidrRange,\n",
    "    purpose,\n",
    "    enableFlowLogs,\n",
    "    privateIpGoogleAccess\n",
    "    FROM google.compute.subnetworks WHERE project = '{project}'\n",
    "    \"\"\"\n",
    "    for project in list(networks_df['project'].unique())\n",
    "]\n",
    "\n",
    "subnetworks_df = run_stackql_queries(queries)\n",
    "subnetworks_df"
   ]
  }
 ],
 "metadata": {
  "language_info": {
   "name": "python"
  },
  "orig_nbformat": 4
 },
 "nbformat": 4,
 "nbformat_minor": 2
}
