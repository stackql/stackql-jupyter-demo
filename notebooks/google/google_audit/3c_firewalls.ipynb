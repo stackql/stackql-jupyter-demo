{
 "cells": [
  {
   "cell_type": "code",
   "execution_count": null,
   "metadata": {},
   "outputs": [],
   "source": [
    "\n",
    "%run includes/3-network-setup.ipynb"
   ]
  },
  {
   "cell_type": "markdown",
   "metadata": {},
   "source": [
    "# Networks (Firewalls)\n",
    "Summary and detail reports on firewalls deployed across the GCP estate.\n",
    "\n",
    "## Firewalls"
   ]
  },
  {
   "cell_type": "code",
   "execution_count": null,
   "metadata": {},
   "outputs": [],
   "source": [
    "\n",
    "# get firewalls\n",
    "firewall_queries = [\n",
    "    f\"\"\"\n",
    "    select \n",
    "    name\n",
    "    ,'{project}' as project\n",
    "    ,sourceRanges\n",
    "    ,destinationRanges\n",
    "    ,sourceServiceAccounts\n",
    "    ,sourceTags\n",
    "    ,targetServiceAccounts\n",
    "    ,targetTags\n",
    "    ,denied\n",
    "    ,direction\n",
    "    ,SPLIT_PART(network, '/', 10) as network\n",
    "    ,allowed\n",
    "    ,priority\n",
    "    ,disabled\n",
    "    ,logConfig\n",
    "    ,description\n",
    "    from google.compute.firewalls where project = '{project}' and name is not null\n",
    "    \"\"\"\n",
    "    for project in networked_projects\n",
    "]\n",
    "firewalls_df = run_stackql_queries(firewall_queries)\n",
    "firewall_projects = list(firewalls_df['project'].unique())\n",
    "firewalls_df"
   ]
  },
  {
   "cell_type": "markdown",
   "metadata": {},
   "source": [
    "## Firewalls with Public Access"
   ]
  },
  {
   "cell_type": "code",
   "execution_count": null,
   "metadata": {},
   "outputs": [],
   "source": [
    "\n",
    "# get firewalls with public access\n",
    "fw_public_access_queries = [\n",
    "    f\"\"\"\n",
    "    SELECT sourceRange, * FROM\n",
    "        (\n",
    "        SELECT  \n",
    "            name\n",
    "            ,JSON_EXTRACT(sourceRanges, '$[0]') as sourceRange\n",
    "            ,destinationRanges\n",
    "            ,sourceServiceAccounts\n",
    "            ,sourceTags\n",
    "            ,targetServiceAccounts\n",
    "            ,targetTags\n",
    "            ,direction\n",
    "            ,SPLIT_PART(network, '/', 10) as network\n",
    "            ,JSON_EXTRACT(denied, '$[0].ports[0]') as denied_ports\n",
    "            ,JSON_EXTRACT(denied, '$[0].IPProtocol') as denied_protocols\n",
    "            ,allowed\n",
    "            ,priority\n",
    "            ,disabled\n",
    "            ,logConfig\n",
    "            ,description\n",
    "        from google.compute.firewalls where project = '{project}' and name is not null\n",
    "        ) as firewalls\n",
    "    WHERE sourceRange = '0.0.0.0/0'\n",
    "    \"\"\"\n",
    "    for project in firewall_projects\n",
    "]\n",
    "fw_public_access_df = run_stackql_queries(fw_public_access_queries)\n",
    "fw_public_access_df"
   ]
  }
 ],
 "metadata": {
  "language_info": {
   "name": "python"
  },
  "orig_nbformat": 4
 },
 "nbformat": 4,
 "nbformat_minor": 2
}
