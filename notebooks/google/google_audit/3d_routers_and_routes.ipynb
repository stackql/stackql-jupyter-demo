{
 "cells": [
  {
   "cell_type": "code",
   "execution_count": null,
   "metadata": {},
   "outputs": [],
   "source": [
    "\n",
    "%run includes/3-network-setup.ipynb"
   ]
  },
  {
   "cell_type": "markdown",
   "metadata": {},
   "source": [
    "# Networks (Routes and Routers)\n",
    "Summary and detail reports on routers and routes deployed across the GCP estate.\n",
    "\n",
    "## Routers"
   ]
  },
  {
   "cell_type": "code",
   "execution_count": null,
   "metadata": {},
   "outputs": [],
   "source": [
    "\n",
    "# routers\n",
    "routers_queries = [\n",
    "    f\"\"\"\n",
    "    select \n",
    "    name\n",
    "    ,description\n",
    "    ,SPLIT_PART(region, '/', 9) as region\t\n",
    "    ,SPLIT_PART(network, '/', 10) as network\n",
    "    ,nats\n",
    "    ,bgp\n",
    "    ,bgpPeers\n",
    "    ,JSON_ARRAY_LENGTH(interfaces) as num_interfaces\n",
    "    ,interfaces\n",
    "    ,encryptedInterconnectRouter\n",
    "    ,md5AuthenticationKeys\t\t \t\n",
    "    from google.compute.routers where project = '{project}'\n",
    "    \"\"\"\n",
    "    for project in networked_projects\n",
    "]\n",
    "routers_df = run_stackql_queries(routers_queries)\n",
    "routers_df"
   ]
  },
  {
   "cell_type": "markdown",
   "metadata": {},
   "source": [
    "## Routes"
   ]
  },
  {
   "cell_type": "code",
   "execution_count": null,
   "metadata": {},
   "outputs": [],
   "source": [
    "\n",
    "# get routes\n",
    "routes_queries = [\n",
    "    f\"\"\"\n",
    "    select \n",
    "    name\n",
    "    ,description\n",
    "    ,'{project}' as project\n",
    "    ,SPLIT_PART(network, '/', 10) as network\n",
    "    ,SPLIT_PART(nextHopInstance, '/', 11) as nextHopInstance\n",
    "    ,tags\n",
    "    ,nextHopIlb\t\n",
    "    ,destRange\t\n",
    "    ,nextHopHub\t\n",
    "    ,SPLIT_PART(nextHopGateway, '/', 10) as nextHopGateway\n",
    "    ,routeStatus\n",
    "    ,priority\n",
    "    ,nextHopVpnTunnel\n",
    "    ,routeType\n",
    "    ,nextHopIp\n",
    "    ,warnings\n",
    "    ,creationTimestamp\n",
    "    ,asPaths\n",
    "    ,nextHopPeering\n",
    "    ,SPLIT_PART(nextHopNetwork, '/', 10) as nextHopNetwork\n",
    "    from google.compute.routes where project = '{project}'\n",
    "    \"\"\"\n",
    "    for project in networked_projects\n",
    "]\n",
    "routes_df = run_stackql_queries(routes_queries)\n",
    "routes_df"
   ]
  }
 ],
 "metadata": {
  "language_info": {
   "name": "python"
  },
  "orig_nbformat": 4
 },
 "nbformat": 4,
 "nbformat_minor": 2
}
