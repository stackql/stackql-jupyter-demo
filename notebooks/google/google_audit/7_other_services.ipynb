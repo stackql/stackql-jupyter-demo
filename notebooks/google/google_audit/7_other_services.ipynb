{
 "cells": [
  {
   "cell_type": "code",
   "execution_count": null,
   "metadata": {},
   "outputs": [],
   "source": []
  },
  {
   "cell_type": "code",
   "execution_count": null,
   "metadata": {},
   "outputs": [],
   "source": [
    "# cloud functions\n",
    "queries = [\n",
    "    f\"\"\"\n",
    "    SELECT locationId,\n",
    "    '{project}' as project\n",
    "    FROM google.cloudfunctions.locations WHERE projectsId = '{project}'\n",
    "    \"\"\"\n",
    "    for project in projects\n",
    "]\n",
    "\n",
    "locations_df = run_stackql_queries(queries)\n",
    "locations = locations_df['locationId'].tolist()\n",
    "\n",
    "queries = [\n",
    "    f\"\"\"\n",
    "    SELECT *,\n",
    "    '{project}' as project,\n",
    "    '{location}' as location\n",
    "    FROM google.cloudfunctions.functions WHERE projectsId = '{project}' AND locationsId = '{location}'\n",
    "    \"\"\"\n",
    "    for project in projects\n",
    "    for location in locations\n",
    "]\n",
    "functions_df = run_stackql_queries(queries)\n",
    "functions_df"
   ]
  }
 ],
 "metadata": {
  "language_info": {
   "name": "python"
  },
  "orig_nbformat": 4
 },
 "nbformat": 4,
 "nbformat_minor": 2
}
