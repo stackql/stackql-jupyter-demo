{
 "cells": [
  {
   "cell_type": "code",
   "execution_count": null,
   "metadata": {},
   "outputs": [],
   "source": [
    "# get networks\n",
    "\n",
    "queries = [\n",
    "    f\"\"\"\n",
    "    SELECT name,\n",
    "    '{project}' as project,\n",
    "    mtu,\n",
    "    networkFirewallPolicyEnforcementOrder as fwPolicyEnforcementOrder,\n",
    "    peerings,\n",
    "    JSON_EXTRACT(routingConfig, '$.routingMode') as routingMode,\n",
    "    subnetworks\n",
    "    FROM google.compute.networks WHERE project = '{project}'\n",
    "    \"\"\"\n",
    "    for project in projects\n",
    "]\n",
    "\n",
    "networks_df = (lambda df: df[df['name'] != 'null'])(run_stackql_queries(queries))\n",
    "networks_df"
   ]
  },
  {
   "cell_type": "code",
   "execution_count": null,
   "metadata": {},
   "outputs": [],
   "source": [
    "# network peerings\n",
    "networks_subset_df = networks_df[networks_df['peerings'] != 'null'][['name', 'peerings']].copy()\n",
    "network_peerings_df = explode_json_list_col(networks_subset_df, 'peerings', 'peering')\n",
    "network_peerings_df"
   ]
  },
  {
   "cell_type": "code",
   "execution_count": null,
   "metadata": {},
   "outputs": [],
   "source": [
    "# get project iam bindings\n",
    "\n",
    "queries = [\n",
    "    f\"\"\"\n",
    "    SELECT role, condition, members, '{project}' as project\n",
    "    FROM google.cloudresourcemanager.projects_iam_policies\n",
    "    WHERE projectsId = '{project}'\n",
    "    \"\"\"\n",
    "    for project in projects\n",
    "]\n",
    "\n",
    "_bindings_df = run_stackql_queries(queries)\n",
    "\n",
    "project_bindings = (explode_json_list_col(_bindings_df, 'members', 'member')\n",
    " .assign(member_type=lambda x: x['member'].str.split(':', expand=True)[0],\n",
    "         member_email=lambda x: x['member'].str.split(':', expand=True)[1])\n",
    ")\n",
    "project_bindings"
   ]
  },
  {
   "cell_type": "code",
   "execution_count": null,
   "metadata": {},
   "outputs": [],
   "source": []
  },
  {
   "cell_type": "code",
   "execution_count": null,
   "metadata": {},
   "outputs": [],
   "source": [
    "args_json = json.dumps({\"project\": projects[0]})"
   ]
  },
  {
   "cell_type": "code",
   "execution_count": null,
   "metadata": {},
   "outputs": [],
   "source": [
    "%%stackql\n",
    "SELECT * FROM google.compute.regions WHERE project = '{project}'"
   ]
  },
  {
   "cell_type": "code",
   "execution_count": null,
   "metadata": {},
   "outputs": [],
   "source": [
    "# cloud functions\n",
    "queries = [\n",
    "    f\"\"\"\n",
    "    SELECT locationId,\n",
    "    '{project}' as project\n",
    "    FROM google.cloudfunctions.locations WHERE projectsId = '{project}'\n",
    "    \"\"\"\n",
    "    for project in projects\n",
    "]\n",
    "\n",
    "locations_df = run_stackql_queries(queries)\n",
    "locations = locations_df['locationId'].tolist()\n",
    "\n",
    "queries = [\n",
    "    f\"\"\"\n",
    "    SELECT *,\n",
    "    '{project}' as project,\n",
    "    '{location}' as location\n",
    "    FROM google.cloudfunctions.functions WHERE projectsId = '{project}' AND locationsId = '{location}'\n",
    "    \"\"\"\n",
    "    for project in projects\n",
    "    for location in locations\n",
    "]\n",
    "functions_df = run_stackql_queries(queries)\n",
    "functions_df"
   ]
  }
 ],
 "metadata": {
  "kernelspec": {
   "display_name": "Python 3.10.0 64-bit",
   "language": "python",
   "name": "python3"
  },
  "language_info": {
   "name": "python",
   "version": "3.10.0"
  },
  "orig_nbformat": 4,
  "vscode": {
   "interpreter": {
    "hash": "369f2c481f4da34e4445cda3fffd2e751bd1c4d706f27375911949ba6bb62e1c"
   }
  }
 },
 "nbformat": 4,
 "nbformat_minor": 2
}
