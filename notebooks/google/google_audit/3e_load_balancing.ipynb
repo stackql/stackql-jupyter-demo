{
 "cells": [
  {
   "cell_type": "code",
   "execution_count": null,
   "metadata": {},
   "outputs": [],
   "source": [
    "\n",
    "%run includes/3-network-setup.ipynb\n",
    "networked_projects = load_object('networked_projects')"
   ]
  },
  {
   "cell_type": "markdown",
   "metadata": {},
   "source": [
    "# Network (Load Balancing)\n",
    "Summary reports on load balancing resources deployed across the GCP estate."
   ]
  },
  {
   "cell_type": "code",
   "execution_count": null,
   "metadata": {},
   "outputs": [],
   "source": [
    "\n",
    "# forwarding rules\n",
    "forwarding_rule_queries = [\n",
    "    f\"\"\"\n",
    "    select * from google.compute.forwarding_rules where project = '{project}'\n",
    "    \"\"\"\n",
    "    for project in networked_projects\n",
    "]\n",
    "forwarding_rule_df = run_stackql_queries(forwarding_rule_queries)\n",
    "forwarding_rule_df"
   ]
  },
  {
   "cell_type": "code",
   "execution_count": null,
   "metadata": {},
   "outputs": [],
   "source": [
    "\n",
    "# save data\n",
    "save_object(len(forwarding_rule_df), 'num_forwarding_rules')"
   ]
  },
  {
   "cell_type": "markdown",
   "metadata": {},
   "source": []
  }
 ],
 "metadata": {
  "language_info": {
   "name": "python"
  },
  "orig_nbformat": 4
 },
 "nbformat": 4,
 "nbformat_minor": 2
}
