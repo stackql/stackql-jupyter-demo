{
 "cells": [
  {
   "cell_type": "code",
   "execution_count": null,
   "metadata": {},
   "outputs": [],
   "source": [
    "\n",
    "%run includes/3-network-setup.ipynb\n",
    "networked_projects = load_object('networked_projects')"
   ]
  },
  {
   "cell_type": "markdown",
   "metadata": {},
   "source": [
    "# Networks (Hybrid Connectivity)\n",
    "Summary and detail reports on hybrid connectivity (Interconnects, VPNs, etc) across the GCP estate.\n",
    "\n",
    "## Interconnects"
   ]
  },
  {
   "cell_type": "code",
   "execution_count": null,
   "metadata": {},
   "outputs": [],
   "source": [
    "\n",
    "# get interconnects\n",
    "interconnect_queries = [\n",
    "    f\"\"\"\n",
    "    SELECT *\n",
    "    FROM google.compute.interconnects WHERE project = '{project}'\n",
    "    AND name IS NOT NULL\n",
    "    \"\"\"\n",
    "    for project in networked_projects\n",
    "]\n",
    "interconnects_df = run_stackql_queries(interconnect_queries)\n",
    "interconnects_df\n"
   ]
  },
  {
   "cell_type": "markdown",
   "metadata": {},
   "source": [
    "## VPN Gateways"
   ]
  },
  {
   "cell_type": "code",
   "execution_count": null,
   "metadata": {},
   "outputs": [],
   "source": [
    "\n",
    "# get vpns\n",
    "vpn_queries = [\n",
    "    f\"\"\"\n",
    "    SELECT\n",
    "    name,\n",
    "    '{project}' as project, \n",
    "    SPLIT_PART(network, '/', 9) as network,\n",
    "    SPLIT_PART(region, '/', 8) as region,\n",
    "    JSON_ARRAY(JSON_EXTRACT(vpnInterfaces, '$[0].ipAddress'), JSON_EXTRACT(vpnInterfaces, '$[1].ipAddress')) as ip_addresses\n",
    "    FROM google.compute.vpn_gateways WHERE project = '{project}'\n",
    "    \"\"\"\n",
    "    for project in networked_projects\n",
    "]\n",
    "vpns_df = run_stackql_queries(vpn_queries)\n",
    "vpns_df"
   ]
  },
  {
   "cell_type": "markdown",
   "metadata": {},
   "source": [
    "## External VPN Gateways"
   ]
  },
  {
   "cell_type": "code",
   "execution_count": null,
   "metadata": {},
   "outputs": [],
   "source": [
    "external_vpn_gateways_queries = [\n",
    "    f\"\"\"\n",
    "    select \n",
    "    name\n",
    "    ,description\n",
    "    ,'{project}' as project\n",
    "    ,JSON_ARRAY_LENGTH(interfaces) as num_interfaces\n",
    "    ,JSON_ARRAY(JSON_EXTRACT(interfaces, '$[0].ipAddress'), JSON_EXTRACT(interfaces, '$[1].ipAddress'), JSON_EXTRACT(interfaces, '$[2].ipAddress'), JSON_EXTRACT(interfaces, '$[3].ipAddress')) as ip_addresses\n",
    "    ,redundancyType\n",
    "    ,labels \n",
    "    from google.compute.external_vpn_gateways where project = '{project}'\n",
    "    and name is not null\n",
    "    \"\"\"\n",
    "    for project in networked_projects\n",
    "]\n",
    "external_vpn_gateways_df = run_stackql_queries(external_vpn_gateways_queries)\n",
    "external_vpn_gateways_df\n"
   ]
  },
  {
   "cell_type": "markdown",
   "metadata": {},
   "source": [
    "### VPN Tunnels"
   ]
  },
  {
   "cell_type": "code",
   "execution_count": null,
   "metadata": {},
   "outputs": [],
   "source": [
    "\n",
    "# vpn tunnels\n",
    "vpn_tunnels_queries = [\n",
    "    f\"\"\"\n",
    "    select \n",
    "    name,\n",
    "    description,\n",
    "    '{project}' as project,\n",
    "    SPLIT_PART(region, '/', 9) as region,\n",
    "    status,\n",
    "    detailedStatus,\n",
    "    SPLIT_PART(router, '/', 11) as router,\n",
    "    SPLIT_PART(vpnGateway, '/', 11) as vpnGateway,\n",
    "    targetVpnGateway,\n",
    "    vpnGatewayInterface,\n",
    "    peerGcpGateway,\n",
    "    ikeVersion,\n",
    "    peerIp,\n",
    "    peerExternalGatewayInterface,\n",
    "    SPLIT_PART(peerExternalGateway, '/', 10) as peerExternalGateway,\n",
    "    localTrafficSelector,\n",
    "    remoteTrafficSelector,\n",
    "    labels\n",
    "    from google.compute.vpn_tunnels where project = '{project}'\n",
    "    \"\"\"\n",
    "    for project in networked_projects\n",
    "]\n",
    "vpn_tunnels_df = run_stackql_queries(vpn_tunnels_queries)\n",
    "vpn_tunnels_df"
   ]
  },
  {
   "cell_type": "code",
   "execution_count": null,
   "metadata": {},
   "outputs": [],
   "source": [
    "\n",
    "# save data\n",
    "save_object(len(interconnects_df), 'num_interconnects')\n",
    "save_object(len(vpns_df), 'num_vpns')\n",
    "save_object(len(external_vpn_gateways_df), 'num_external_vpn_gateways')\n",
    "save_object(len(vpn_tunnels_df), 'num_vpn_tunnels')"
   ]
  }
 ],
 "metadata": {
  "language_info": {
   "name": "python"
  },
  "orig_nbformat": 4
 },
 "nbformat": 4,
 "nbformat_minor": 2
}
