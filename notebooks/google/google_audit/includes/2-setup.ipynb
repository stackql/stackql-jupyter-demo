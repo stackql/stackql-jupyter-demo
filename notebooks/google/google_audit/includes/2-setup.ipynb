{
 "cells": [
  {
   "cell_type": "code",
   "execution_count": null,
   "metadata": {},
   "outputs": [],
   "source": [
    "%run includes/shared-setup.ipynb"
   ]
  },
  {
   "cell_type": "code",
   "execution_count": null,
   "metadata": {},
   "outputs": [],
   "source": [
    "def plot_compute_metrics(regions_df, desired_metrics, base_height=200):\n",
    "    # Number of rows for subplots (assuming one chart per row)\n",
    "    n_metrics = len(desired_metrics)\n",
    "\n",
    "    # Create subplot structure\n",
    "    fig = make_subplots(rows=n_metrics, cols=1, shared_xaxes=True, vertical_spacing=0.05,\n",
    "                        subplot_titles=desired_metrics)\n",
    "\n",
    "    for idx, metric in enumerate(desired_metrics, start=1):\n",
    "        subset = regions_df[regions_df['quota_metric'] == metric]\n",
    "        fig.add_trace(go.Bar(x=subset['project'], y=subset['quota_usage'], name=metric), row=idx, col=1)\n",
    "\n",
    "    fig.update_layout(height=base_height * n_metrics, width=800, title_text=\"Quota Usage by Project per Metric\", showlegend=False)\n",
    "    fig.show()"
   ]
  },
  {
   "cell_type": "code",
   "execution_count": null,
   "metadata": {},
   "outputs": [],
   "source": [
    "def plot_machine_types(instances_df):\n",
    "    # Count the occurrences of each unique machine type\n",
    "    machine_type_counts = instances_df['machineType'].value_counts()\n",
    "\n",
    "    # Create subplot structure\n",
    "    fig = make_subplots(rows=1, cols=1, specs=[[{'type':'pie'}]])\n",
    "\n",
    "    # Add pie chart\n",
    "    fig.add_trace(go.Pie(labels=machine_type_counts.index, \n",
    "                        values=machine_type_counts.values, \n",
    "                        textinfo='value'))\n",
    "\n",
    "    # Update layout to set the figure width\n",
    "    fig.update_layout(width=500,  # Set width to 200 pixels, adjust as needed\n",
    "                    title='Distribution of Machine Types')\n",
    "\n",
    "    # Show the pie chart\n",
    "    fig.show()"
   ]
  }
 ],
 "metadata": {
  "language_info": {
   "name": "python"
  },
  "orig_nbformat": 4
 },
 "nbformat": 4,
 "nbformat_minor": 2
}
