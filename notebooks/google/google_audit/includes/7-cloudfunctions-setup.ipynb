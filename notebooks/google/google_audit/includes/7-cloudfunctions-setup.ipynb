{
 "cells": [
  {
   "cell_type": "code",
   "execution_count": null,
   "metadata": {},
   "outputs": [],
   "source": [
    "%run includes/shared-setup.ipynb"
   ]
  },
  {
   "cell_type": "code",
   "execution_count": null,
   "metadata": {},
   "outputs": [],
   "source": [
    "def plot_functions_by_project(functions_df):\n",
    "    project_count = functions_df['project'].value_counts().reset_index()\n",
    "    project_count.columns = ['project', 'count']\n",
    "    fig = px.bar(project_count, x='project', y='count', title='Number of Functions by Project')\n",
    "    fig.show()\n",
    "\n",
    "def get_functions_by_location_trace(functions_df):\n",
    "    location_count = functions_df['location'].value_counts().reset_index()\n",
    "    location_count.columns = ['location', 'count']\n",
    "    trace = go.Pie(labels=location_count['location'], values=location_count['count'], text=location_count['count'], textinfo='text')\n",
    "    return trace, 'Functions by Location'\n",
    "\n",
    "def get_functions_by_runtime_trace(functions_df):\n",
    "    runtime_count = functions_df['runtime'].value_counts().reset_index()\n",
    "    runtime_count.columns = ['runtime', 'count']\n",
    "    trace = go.Pie(labels=runtime_count['runtime'], values=runtime_count['count'], text=runtime_count['count'], textinfo='text')\n",
    "    return trace, 'Functions by Runtime'\n",
    "\n",
    "def get_functions_by_available_memory_trace(functions_df):\n",
    "    memory_count = functions_df['availableMemory'].value_counts().reset_index()\n",
    "    memory_count.columns = ['availableMemory', 'count']\n",
    "    trace = go.Pie(labels=memory_count['availableMemory'], values=memory_count['count'], text=memory_count['count'], textinfo='text')\n",
    "    return trace, 'Functions by Available Memory'\n",
    "\n",
    "def plot_all_side_by_side(functions_df):\n",
    "    fig = make_subplots(rows=1, cols=3, specs=[[{'type': 'pie'}, {'type': 'pie'}, {'type': 'pie'}]])\n",
    "    \n",
    "    trace1, title1 = get_functions_by_location_trace(functions_df)\n",
    "    trace2, title2 = get_functions_by_runtime_trace(functions_df)\n",
    "    trace3, title3 = get_functions_by_available_memory_trace(functions_df)\n",
    "    \n",
    "    fig.add_trace(trace1, row=1, col=1)\n",
    "    fig.add_trace(trace2, row=1, col=2)\n",
    "    fig.add_trace(trace3, row=1, col=3)\n",
    "    \n",
    "    fig.update_layout(\n",
    "        title_text=\"Cloud Functions Metrics\",\n",
    "        annotations=[\n",
    "            dict(text=title1, x=0.14, xref=\"paper\", y=-0.2, yref=\"paper\", font_size=16, showarrow=False),\n",
    "            dict(text=title2, x=0.5, xref=\"paper\", y=-0.2, yref=\"paper\", font_size=16, showarrow=False),\n",
    "            dict(text=title3, x=0.86, xref=\"paper\", y=-0.2, yref=\"paper\", font_size=16, showarrow=False)\n",
    "        ],\n",
    "        legend=dict(\n",
    "            x=0.3, y=-0.3, traceorder=\"normal\",\n",
    "            orientation=\"h\"\n",
    "        )\n",
    "    )\n",
    "    \n",
    "    fig.show()"
   ]
  },
  {
   "cell_type": "code",
   "execution_count": null,
   "metadata": {},
   "outputs": [],
   "source": [
    "with open('/tmp/all_projects.pkl', 'rb') as f:\n",
    "    all_projects = pickle.load(f)"
   ]
  }
 ],
 "metadata": {
  "language_info": {
   "name": "python"
  },
  "orig_nbformat": 4
 },
 "nbformat": 4,
 "nbformat_minor": 2
}
