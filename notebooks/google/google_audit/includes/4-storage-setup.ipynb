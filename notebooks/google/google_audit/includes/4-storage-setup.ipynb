{
 "cells": [
  {
   "cell_type": "code",
   "execution_count": null,
   "metadata": {},
   "outputs": [],
   "source": [
    "%run includes/shared-setup.ipynb"
   ]
  },
  {
   "cell_type": "code",
   "execution_count": null,
   "metadata": {},
   "outputs": [],
   "source": [
    "def show_storage_summary_cards(buckets_df, object_counts_df, public_access_df):\n",
    "    # Convert the 'num_subnets' column to integers\n",
    "    object_counts_df['object_count'] = object_counts_df['object_count'].astype(int, errors='ignore')  # Using 'ignore' will leave non-convertible types as is\n",
    "    \n",
    "    # Now get the total number of networks and subnets\n",
    "    total_buckets = len(buckets_df)\n",
    "    total_objects = object_counts_df['object_count'].sum()\n",
    "    public_buckets = public_access_df.query(\"publicAccessPrevention not in ['enforced', 'inherited']\").shape[0]\n",
    "\n",
    "    cards_data = [\n",
    "        (\"Total Buckets\", total_buckets), \n",
    "        (\"Publically Accessible\", public_buckets), \n",
    "        (\"Total Objects\", total_objects),\n",
    "        ]\n",
    "\n",
    "    # summary cards\n",
    "    display_cards(cards_data)"
   ]
  },
  {
   "cell_type": "code",
   "execution_count": null,
   "metadata": {},
   "outputs": [],
   "source": [
    "def plot_buckets_per_project(buckets_df):\n",
    "    # Count the number of buckets per project\n",
    "    project_count = buckets_df['project'].value_counts().reset_index()\n",
    "    project_count.columns = ['project', 'count']\n",
    "    \n",
    "    # Create the bar chart using Plotly\n",
    "    fig = px.bar(project_count, x='project', y='count', \n",
    "                 title='Number of Buckets per Project', \n",
    "                 labels={'project': 'Project', 'count': 'Number of Buckets'})\n",
    "    \n",
    "    # Show the figure\n",
    "    fig.show()"
   ]
  },
  {
   "cell_type": "code",
   "execution_count": null,
   "metadata": {},
   "outputs": [],
   "source": [
    "def plot_object_counts(object_counts_df, count):\n",
    "    # Convert 'object_count' to integer\n",
    "    object_counts_df['object_count'] = object_counts_df['object_count'].astype(int)\n",
    "    \n",
    "    # Sort the DataFrame by 'object_count' in descending order and select the top n\n",
    "    object_counts_df = object_counts_df.sort_values('object_count', ascending=False).head(count)\n",
    "    \n",
    "    fig = px.bar(object_counts_df, x='bucket', y='object_count',\n",
    "                 title='Top 20 Buckets by Object Count',\n",
    "                 labels={'bucket': 'Bucket', 'object_count': 'Number of Objects'},\n",
    "                 hover_data=['object_count'])\n",
    "    \n",
    "    # Remove the numerical axes\n",
    "    fig.update_xaxes(showgrid=False)\n",
    "    fig.update_yaxes(showgrid=False, visible=False)\n",
    "    \n",
    "    # Show the figure\n",
    "    fig.show()"
   ]
  },
  {
   "cell_type": "code",
   "execution_count": null,
   "metadata": {},
   "outputs": [],
   "source": [
    "with open('/tmp/all_projects.pkl', 'rb') as f:\n",
    "    all_projects = pickle.load(f)"
   ]
  }
 ],
 "metadata": {
  "language_info": {
   "name": "python"
  },
  "orig_nbformat": 4
 },
 "nbformat": 4,
 "nbformat_minor": 2
}
