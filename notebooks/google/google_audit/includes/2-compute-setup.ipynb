{
 "cells": [
  {
   "cell_type": "code",
   "execution_count": null,
   "metadata": {},
   "outputs": [],
   "source": [
    "%run includes/shared-setup.ipynb"
   ]
  },
  {
   "cell_type": "code",
   "execution_count": null,
   "metadata": {},
   "outputs": [],
   "source": [
    "def plot_compute_metrics(regions_df, desired_metrics, base_height=200):\n",
    "    # Number of rows for subplots (assuming one chart per row)\n",
    "    n_metrics = len(desired_metrics)\n",
    "\n",
    "    # Create subplot structure\n",
    "    fig = make_subplots(rows=n_metrics, cols=1, shared_xaxes=True, vertical_spacing=0.05,\n",
    "                        subplot_titles=desired_metrics)\n",
    "\n",
    "    for idx, metric in enumerate(desired_metrics, start=1):\n",
    "        subset = regions_df[regions_df['metric'] == metric]\n",
    "        fig.add_trace(go.Bar(x=subset['project'], y=subset['usage'], name=metric), row=idx, col=1)\n",
    "\n",
    "    fig.update_layout(height=base_height * n_metrics, width=800, title_text=\"Quota Usage by Project per Metric\", showlegend=False)\n",
    "    fig.show()"
   ]
  },
  {
   "cell_type": "code",
   "execution_count": null,
   "metadata": {},
   "outputs": [],
   "source": [
    "def plot_machine_types(instances_df):\n",
    "    # Count the occurrences of each unique machine type\n",
    "    machine_type_counts = instances_df['machineType'].value_counts()\n",
    "\n",
    "    # Create subplot structure\n",
    "    fig = make_subplots(rows=1, cols=1, specs=[[{'type':'pie'}]])\n",
    "\n",
    "    # Add pie chart\n",
    "    fig.add_trace(go.Pie(labels=machine_type_counts.index, \n",
    "                        values=machine_type_counts.values, \n",
    "                        textinfo='value'))\n",
    "\n",
    "    # Update layout to set the figure width\n",
    "    fig.update_layout(width=500,  # Set width to 200 pixels, adjust as needed\n",
    "                    title='Distribution of Machine Types')\n",
    "\n",
    "    # Show the pie chart\n",
    "    fig.show()"
   ]
  },
  {
   "cell_type": "code",
   "execution_count": null,
   "metadata": {},
   "outputs": [],
   "source": [
    "def plot_persistent_disks(persistent_disks_df):\n",
    "    # Convert 'sizeGb' to numeric type\n",
    "    persistent_disks_df['sizeGb'] = pd.to_numeric(persistent_disks_df['sizeGb'], errors='coerce')\n",
    "    \n",
    "    # Sort DataFrame by 'sizeGb' in descending order\n",
    "    persistent_disks_df = persistent_disks_df.sort_values(by='sizeGb', ascending=False)\n",
    "    \n",
    "    # Create a bar chart\n",
    "    fig = px.bar(persistent_disks_df,\n",
    "                 x='name',\n",
    "                 y='sizeGb',\n",
    "                 labels={'truncated_name': 'Disk Name', 'sizeGb': 'Size (GB)'},\n",
    "                 title='Persistent Disk Sizes in GB',\n",
    "                 height=500)\n",
    "    \n",
    "    # Update the y-axis to a logarithmic scale\n",
    "    fig.update_yaxes(type='log')\n",
    "    \n",
    "    # Show the figure\n",
    "    fig.show()"
   ]
  },
  {
   "cell_type": "code",
   "execution_count": null,
   "metadata": {},
   "outputs": [],
   "source": [
    "def show_compute_summary_cards(regions_df, num_instances):\n",
    "\n",
    "    def compute_sum(df, metric):\n",
    "        filtered_df = df[df['metric'] == metric].copy()  # Create a copy to avoid warnings\n",
    "        filtered_df['usage'] = pd.to_numeric(filtered_df['usage'], errors='coerce')\n",
    "        return filtered_df['usage'].sum()\n",
    "\n",
    "\n",
    "    # Compute the sums for each metric you're interested in\n",
    "    instance_groups_count = compute_sum(regions_df, 'INSTANCE_GROUPS')\n",
    "    cpu_count = compute_sum(regions_df, 'CPUS')\n",
    "    disks_total_gb = compute_sum(regions_df, 'DISKS_TOTAL_GB')\n",
    "    in_use_address_count = compute_sum(regions_df, 'IN_USE_ADDRESSES')\n",
    "    static_address_count = compute_sum(regions_df, 'STATIC_ADDRESSES')\n",
    "\n",
    "    cards_data = [\n",
    "        (\"Instances\", num_instances), \n",
    "        (\"Instance Groups\", instance_groups_count),\n",
    "        (\"CPUs\", cpu_count),\n",
    "        (\"Disks (Total GB)\", disks_total_gb),\n",
    "        (\"In Use Addresses\", in_use_address_count),\n",
    "        (\"Static Addresses\", static_address_count),\n",
    "        ]\n",
    "\n",
    "    # summary cards\n",
    "    display_cards(cards_data)"
   ]
  },
  {
   "cell_type": "code",
   "execution_count": null,
   "metadata": {},
   "outputs": [],
   "source": [
    "all_projects = load_object('all_projects')"
   ]
  }
 ],
 "metadata": {
  "language_info": {
   "name": "python"
  },
  "orig_nbformat": 4
 },
 "nbformat": 4,
 "nbformat_minor": 2
}
