{
 "cells": [
  {
   "cell_type": "code",
   "execution_count": null,
   "metadata": {},
   "outputs": [],
   "source": [
    "\n",
    "%run includes/1-res-heirarchy-setup.ipynb"
   ]
  },
  {
   "cell_type": "markdown",
   "metadata": {},
   "source": [
    "# GCP Resources\n",
    "Summary of the GCP Resource Hierarchy including folders and projects."
   ]
  },
  {
   "cell_type": "code",
   "execution_count": null,
   "metadata": {},
   "outputs": [],
   "source": [
    "\n",
    "# discover folders and projects\n",
    "def get_projects_query(entity_id):\n",
    "    return f\"\"\"\n",
    "    SELECT displayName, name, parent, projectId \n",
    "    FROM google.cloudresourcemanager.projects \n",
    "    WHERE parent = '{entity_id}';\n",
    "    \"\"\"\n",
    "\n",
    "def get_folders_query(entity_id):\n",
    "    return f\"\"\"\n",
    "    SELECT displayName, name, parent \n",
    "    FROM google.cloudresourcemanager.folders \n",
    "    WHERE parent = '{entity_id}';\n",
    "    \"\"\"\n",
    "\n",
    "tree, resources_df, all_projects, all_project_numbers, cards_data = get_all_resources(get_projects_query, get_folders_query, org_id.value)"
   ]
  },
  {
   "cell_type": "markdown",
   "metadata": {},
   "source": [
    "## Folder and Project Summary"
   ]
  },
  {
   "cell_type": "code",
   "execution_count": null,
   "metadata": {},
   "outputs": [],
   "source": [
    "\n",
    "# summary cards\n",
    "display_cards(cards_data)"
   ]
  },
  {
   "cell_type": "markdown",
   "metadata": {},
   "source": [
    "## Resource Hierarchy"
   ]
  },
  {
   "cell_type": "code",
   "execution_count": null,
   "metadata": {},
   "outputs": [],
   "source": [
    "\n",
    "# show res heirarchy\n",
    "tree"
   ]
  },
  {
   "cell_type": "markdown",
   "metadata": {},
   "source": [
    "## Enabled Services by Project"
   ]
  },
  {
   "cell_type": "code",
   "execution_count": null,
   "metadata": {},
   "outputs": [],
   "source": [
    "# get service usage across all projects\n",
    "serviceusage_queries = [\n",
    "    f\"\"\"\n",
    "    select \n",
    "    '{project}' as project,\n",
    "    split_part(split_part(name, '/', -1), '.', 1) as service\n",
    "    from google.serviceusage.services\n",
    "    where parent = '{project}' and parentType = 'projects' and filter = 'state:ENABLED'\n",
    "    \"\"\"\n",
    "    for project in all_projects\n",
    "]\n",
    "serviceusage_df = run_stackql_queries(serviceusage_queries)"
   ]
  },
  {
   "cell_type": "code",
   "execution_count": null,
   "metadata": {},
   "outputs": [],
   "source": [
    "\n",
    "# service usage summary\n",
    "plot_serviceusage(serviceusage_df)"
   ]
  },
  {
   "cell_type": "code",
   "execution_count": null,
   "metadata": {},
   "outputs": [],
   "source": [
    "\n",
    "# save data\n",
    "save_dataframe(resources_df, 'resources_df')\n",
    "save_object(all_projects, 'all_projects')\n",
    "save_object(all_project_numbers, 'all_project_numbers')"
   ]
  }
 ],
 "metadata": {
  "language_info": {
   "name": "python"
  },
  "orig_nbformat": 4
 },
 "nbformat": 4,
 "nbformat_minor": 2
}
