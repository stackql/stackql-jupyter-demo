{
 "cells": [
  {
   "cell_type": "code",
   "execution_count": null,
   "metadata": {},
   "outputs": [],
   "source": [
    "\n",
    "%run includes/1-setup.ipynb"
   ]
  },
  {
   "cell_type": "code",
   "execution_count": null,
   "metadata": {},
   "outputs": [],
   "source": [
    "\n",
    "# discover folders and projects\n",
    "def get_projects_query(entity_id):\n",
    "    return f\"\"\"\n",
    "    SELECT displayName, name, parent, projectId \n",
    "    FROM google.cloudresourcemanager.projects \n",
    "    WHERE parent = '{entity_id}';\n",
    "    \"\"\"\n",
    "\n",
    "def get_folders_query(entity_id):\n",
    "    return f\"\"\"\n",
    "    SELECT displayName, name, parent \n",
    "    FROM google.cloudresourcemanager.folders \n",
    "    WHERE parent = '{entity_id}';\n",
    "    \"\"\"\n",
    "\n",
    "tree = get_all_resources(get_projects_query, get_folders_query, org_id.value)\n",
    "tree"
   ]
  },
  {
   "cell_type": "code",
   "execution_count": null,
   "metadata": {},
   "outputs": [],
   "source": [
    "\n",
    "# service usage summary\n",
    "plot_serviceusage()"
   ]
  }
 ],
 "metadata": {
  "language_info": {
   "name": "python"
  },
  "orig_nbformat": 4
 },
 "nbformat": 4,
 "nbformat_minor": 2
}
