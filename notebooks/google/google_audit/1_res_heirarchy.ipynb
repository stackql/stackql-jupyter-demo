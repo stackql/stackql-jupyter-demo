{
 "cells": [
  {
   "cell_type": "code",
   "execution_count": null,
   "metadata": {},
   "outputs": [],
   "source": [
    "\n",
    "%run includes/1-res-heirarchy-setup.ipynb"
   ]
  },
  {
   "cell_type": "markdown",
   "metadata": {},
   "source": [
    "# GCP Resources\n",
    "Summary of the GCP Resource Hierarchy including folders and projects."
   ]
  },
  {
   "cell_type": "code",
   "execution_count": null,
   "metadata": {},
   "outputs": [],
   "source": [
    "\n",
    "# discover folders and projects\n",
    "def get_projects_query(entity_id):\n",
    "    return f\"\"\"\n",
    "    SELECT displayName, name, parent, projectId \n",
    "    FROM google.cloudresourcemanager.projects \n",
    "    WHERE parent = '{entity_id}';\n",
    "    \"\"\"\n",
    "\n",
    "def get_folders_query(entity_id):\n",
    "    return f\"\"\"\n",
    "    SELECT displayName, name, parent \n",
    "    FROM google.cloudresourcemanager.folders \n",
    "    WHERE parent = '{entity_id}';\n",
    "    \"\"\"\n",
    "\n",
    "tree, cards_data = get_all_resources(get_projects_query, get_folders_query, org_id.value)"
   ]
  },
  {
   "cell_type": "markdown",
   "metadata": {},
   "source": [
    "## Folder and Project Summary"
   ]
  },
  {
   "cell_type": "code",
   "execution_count": null,
   "metadata": {},
   "outputs": [],
   "source": [
    "\n",
    "# summary cards\n",
    "display_cards(cards_data)"
   ]
  },
  {
   "cell_type": "markdown",
   "metadata": {},
   "source": [
    "## Resource Hierarchy"
   ]
  },
  {
   "cell_type": "code",
   "execution_count": null,
   "metadata": {},
   "outputs": [],
   "source": [
    "\n",
    "# show res heirarchy\n",
    "tree"
   ]
  },
  {
   "cell_type": "markdown",
   "metadata": {},
   "source": [
    "## Enabled Services by Project"
   ]
  },
  {
   "cell_type": "code",
   "execution_count": null,
   "metadata": {},
   "outputs": [],
   "source": [
    "\n",
    "# service usage summary\n",
    "plot_serviceusage()"
   ]
  }
 ],
 "metadata": {
  "language_info": {
   "name": "python"
  },
  "orig_nbformat": 4
 },
 "nbformat": 4,
 "nbformat_minor": 2
}
