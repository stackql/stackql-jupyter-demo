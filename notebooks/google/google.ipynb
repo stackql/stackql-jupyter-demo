{
 "cells": [
  {
   "cell_type": "code",
   "execution_count": null,
   "metadata": {},
   "outputs": [],
   "source": [
    "%load_ext pystackql.magics"
   ]
  },
  {
   "cell_type": "code",
   "execution_count": null,
   "metadata": {},
   "outputs": [],
   "source": [
    "project = 'stackql-demo'\n",
    "zone = 'australia-southeast1-a'\n",
    "region = 'australia-southeast1'"
   ]
  },
  {
   "cell_type": "code",
   "execution_count": null,
   "metadata": {},
   "outputs": [],
   "source": [
    "%%stackql\n",
    "select \n",
    "split_part(split_part(name, '/', -1), '.', 1) as service, \n",
    "json_extract(config, '$$.documentation.summary') as summary\n",
    "from google.serviceusage.services\n",
    "where parent = '$project' and parentType = 'projects' and filter = 'state:ENABLED'"
   ]
  },
  {
   "cell_type": "code",
   "execution_count": null,
   "metadata": {},
   "outputs": [],
   "source": [
    "%%stackql\n",
    "SELECT name, status\n",
    "FROM google.compute.instances \n",
    "WHERE project = '$project' AND zone = '$zone'"
   ]
  },
  {
   "cell_type": "code",
   "execution_count": null,
   "metadata": {},
   "outputs": [],
   "source": [
    "%%stackql\n",
    "SELECT name, status \n",
    "FROM google.compute.instances \n",
    "WHERE project = '$project' AND zone = '$zone'\n",
    "AND name LIKE 'stackql-demo-%'"
   ]
  },
  {
   "cell_type": "code",
   "execution_count": null,
   "metadata": {},
   "outputs": [],
   "source": [
    "%%stackql\n",
    "SELECT name, status \n",
    "FROM google.compute.instances \n",
    "WHERE project = '$project' AND zone = '$zone'\n",
    "AND name NOT LIKE 'stackql-demo-%'"
   ]
  },
  {
   "cell_type": "code",
   "execution_count": null,
   "metadata": {},
   "outputs": [],
   "source": [
    "%%stackql\n",
    "SELECT name, SPLIT_PART(machineType, '/', -1) as machine_type\n",
    "FROM google.compute.instances \n",
    "WHERE project = '$project' AND zone = '$zone'"
   ]
  },
  {
   "cell_type": "code",
   "execution_count": null,
   "metadata": {},
   "outputs": [],
   "source": [
    "%%stackql\n",
    "SELECT status, count(*) as num_instances\n",
    "FROM google.compute.instances\n",
    "WHERE project = '$project' \n",
    "AND zone = '$zone'\n",
    "GROUP BY status"
   ]
  },
  {
   "cell_type": "code",
   "execution_count": null,
   "metadata": {},
   "outputs": [],
   "source": [
    "%%stackql\n",
    "SELECT SPLIT_PART(machineType, '/', -1) as machine_type, count(*) as num_instances \n",
    "FROM google.compute.instances \n",
    "WHERE project = 'stackql-demo' AND zone = 'australia-southeast1-a'\n",
    "GROUP BY machine_type"
   ]
  },
  {
   "cell_type": "code",
   "execution_count": null,
   "metadata": {},
   "outputs": [],
   "source": [
    "%%stackql\n",
    "SELECT name, \n",
    "json_extract(labels, '$$.provisioner') as provisioner,\n",
    "json_extract(labels, '$$.repo') as repo,\n",
    "(strftime('%s','now')-strftime('%s', lastStartTimestamp)) as up_time_secs\n",
    "FROM google.compute.instances \n",
    "WHERE project = 'stackql-demo'  \n",
    "AND zone = 'australia-southeast1-a'"
   ]
  },
  {
   "cell_type": "code",
   "execution_count": null,
   "metadata": {},
   "outputs": [],
   "source": [
    "%%stackql\n",
    "SELECT name, \n",
    "json_extract(labels, '$$.provisioner') as provisioner,\n",
    "json_extract(labels, '$$.repo') as repo,\n",
    "(strftime('%s','now')-strftime('%s', lastStartTimestamp)) as up_time_secs\n",
    "FROM google.compute.instances \n",
    "WHERE project = 'stackql-demo'  \n",
    "AND zone = 'australia-southeast1-a'"
   ]
  }
 ],
 "metadata": {
  "kernelspec": {
   "display_name": "Python 3.10.0 64-bit",
   "language": "python",
   "name": "python3"
  },
  "language_info": {
   "name": "python",
   "version": "3.10.0"
  },
  "orig_nbformat": 4,
  "vscode": {
   "interpreter": {
    "hash": "369f2c481f4da34e4445cda3fffd2e751bd1c4d706f27375911949ba6bb62e1c"
   }
  }
 },
 "nbformat": 4,
 "nbformat_minor": 2
}
