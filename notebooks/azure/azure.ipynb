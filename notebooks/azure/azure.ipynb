{
 "cells": [
  {
   "cell_type": "code",
   "execution_count": null,
   "metadata": {},
   "outputs": [],
   "source": [
    "%load_ext pystackql"
   ]
  },
  {
   "cell_type": "code",
   "execution_count": null,
   "metadata": {},
   "outputs": [],
   "source": [
    "subscriptionId = '631d1c6d-2a65-43e7-93c2-688bfe4e1468'\n",
    "resourceGroupName = 'stackql-ops-cicd-dev-01'"
   ]
  },
  {
   "cell_type": "code",
   "execution_count": null,
   "metadata": {},
   "outputs": [],
   "source": [
    "%stackql DESCRIBE EXTENDED azure.compute.virtual_machines"
   ]
  },
  {
   "cell_type": "code",
   "execution_count": null,
   "metadata": {},
   "outputs": [],
   "source": [
    "%%stackql\n",
    "SELECT id, name FROM azure.compute.ssh_public_keys WHERE subscriptionId = '$subscriptionId'"
   ]
  },
  {
   "cell_type": "code",
   "execution_count": null,
   "metadata": {},
   "outputs": [],
   "source": [
    "%%stackql\n",
    "SELECT type, \n",
    "resources, \n",
    "zones, \n",
    "extendedLocation \n",
    "FROM azure.compute.virtual_machines \n",
    "WHERE resourceGroupName =  '$resourceGroupName'\n",
    "AND subscriptionId = '$subscriptionId'"
   ]
  },
  {
   "cell_type": "code",
   "execution_count": null,
   "metadata": {},
   "outputs": [],
   "source": [
    "%%stackql\n",
    "SELECT id, name \n",
    "FROM azure.compute.virtual_machines \n",
    "WHERE resourceGroupName = '$resourceGroupName'\n",
    "AND subscriptionId = '$subscriptionId'"
   ]
  },
  {
   "cell_type": "code",
   "execution_count": null,
   "metadata": {},
   "outputs": [],
   "source": [
    "%%stackql\n",
    "SELECT * FROM azure.cosmos_db.locations WHERE \n",
    "subscriptionId = '$subscriptionId'"
   ]
  }
 ],
 "metadata": {
  "kernelspec": {
   "display_name": "Python 3.10.0 64-bit",
   "language": "python",
   "name": "python3"
  },
  "language_info": {
   "name": "python",
   "version": "3.10.0"
  },
  "orig_nbformat": 4,
  "vscode": {
   "interpreter": {
    "hash": "369f2c481f4da34e4445cda3fffd2e751bd1c4d706f27375911949ba6bb62e1c"
   }
  }
 },
 "nbformat": 4,
 "nbformat_minor": 2
}
