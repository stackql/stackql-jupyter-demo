{
 "cells": [
  {
   "cell_type": "code",
   "execution_count": null,
   "metadata": {},
   "outputs": [],
   "source": [
    "%load_ext pystackql.magics"
   ]
  },
  {
   "cell_type": "code",
   "execution_count": null,
   "metadata": {},
   "outputs": [],
   "source": [
    "region = 'us-east-1'"
   ]
  },
  {
   "cell_type": "code",
   "execution_count": null,
   "metadata": {},
   "outputs": [],
   "source": [
    "%%stackql\n",
    "SELECT \n",
    "split_part(instanceState, '\\n', 3) as instanceState, \n",
    "count(*) as num_instances\n",
    "FROM aws.ec2.instances \n",
    "WHERE region = '$region' \n",
    "GROUP BY split_part(instanceState, '\\n', 3)"
   ]
  },
  {
   "cell_type": "code",
   "execution_count": null,
   "metadata": {},
   "outputs": [],
   "source": [
    "_.plot(kind='bar', title='Instances by State', x='instanceState', y='num_instances')"
   ]
  },
  {
   "cell_type": "code",
   "execution_count": null,
   "metadata": {},
   "outputs": [],
   "source": [
    "%%stackql\n",
    "SELECT instanceType, COUNT(*) as num_instances \n",
    "FROM aws.ec2.instances\n",
    "WHERE region = '$region'\n",
    "GROUP BY instanceType"
   ]
  },
  {
   "cell_type": "code",
   "execution_count": null,
   "metadata": {},
   "outputs": [],
   "source": [
    "_.plot(kind='pie', y='num_instances', labels=_['instanceType'], title='Instances by Type', autopct='%1.1f%%')"
   ]
  },
  {
   "cell_type": "code",
   "execution_count": null,
   "metadata": {},
   "outputs": [],
   "source": [
    "%%stackql\n",
    "CREATE MATERIALIZED VIEW vw_ec2_instance_types AS\n",
    "SELECT \n",
    "memoryInfo,\n",
    "hypervisor,\n",
    "autoRecoverySupported,\n",
    "instanceType,\n",
    "SPLIT_PART(processorInfo, '\\n', 3) as processorArch,\n",
    "currentGeneration,\n",
    "freeTierEligible,\n",
    "hibernationSupported,\n",
    "SPLIT_PART(vCpuInfo, '\\n', 2) as vCPUs,\n",
    "bareMetal,\n",
    "burstablePerformanceSupported,\n",
    "dedicatedHostsSupported\n",
    "FROM aws.ec2.instance_types\n",
    "WHERE region = '$region'"
   ]
  },
  {
   "cell_type": "code",
   "execution_count": null,
   "metadata": {},
   "outputs": [],
   "source": [
    "# get multiple regions asynchronously\n",
    "from pystackql import StackQL\n",
    "stackql = StackQL(download_dir='/srv/stackql', output='pandas')\n",
    "stackql.executeStmt(\"REGISTRY PULL aws\")"
   ]
  },
  {
   "cell_type": "code",
   "execution_count": null,
   "metadata": {},
   "outputs": [],
   "source": [
    "# get multiple regions asynchronously\n",
    "import nest_asyncio, json\n",
    "nest_asyncio.apply()\n",
    "import pandas as pd\n",
    "\n",
    "regions = [\"ap-southeast-2\", \"us-east-1\"]\n",
    "\n",
    "queries = [\n",
    "    f\"\"\"\n",
    "    SELECT '{region}' as region, instanceType, COUNT(*) as num_instances\n",
    "    FROM aws.ec2.instances\n",
    "    WHERE region = '{region}'\n",
    "    GROUP BY instanceType\n",
    "    \"\"\"\n",
    "    for region in regions\n",
    "]\n",
    "\n",
    "instances_df = await stackql.executeQueriesAsync(queries)\n",
    "instances_df"
   ]
  },
  {
   "cell_type": "code",
   "execution_count": null,
   "metadata": {},
   "outputs": [],
   "source": [
    "%%stackql\n",
    "select PolicyName, Arn from aws.iam.policies where region = '$region'"
   ]
  },
  {
   "cell_type": "code",
   "execution_count": null,
   "metadata": {},
   "outputs": [],
   "source": [
    "import nest_asyncio, json\n",
    "nest_asyncio.apply()\n",
    "import pandas as pd\n",
    "\n",
    "regions= [\"us-east-1\",\"us-east-2\",\"us-west-1\",\"us-west-2\",\"ap-south-1\",\"ap-northeast-3\",\"ap-northeast-2\",\"ap-southeast-1\",\n",
    "         \"ap-southeast-2\",\"ap-northeast-1\",\"ca-central-1\",\"eu-central-1\",\"eu-west-1\",\"eu-west-2\",\"eu-west-3\",\"eu-north-1\",\n",
    "          \"sa-east-1\"]\n",
    "\n",
    "get_fns = [\n",
    "    f\"\"\"\n",
    "    SELECT *\n",
    "    FROM aws.lambda.functions\n",
    "    WHERE region = '{region}'\n",
    "    \"\"\"\n",
    "    for region in regions\n",
    "]\n",
    "\n",
    "functions_df = await stackql.executeQueriesAsync(get_fns)\n",
    "functions_list = functions_df.to_dict(orient='records')\n",
    "\n",
    "get_fns_details = [\n",
    "    f\"\"\"\n",
    "    SELECT \n",
    "    function_name,\n",
    "    region,\n",
    "    arn,\n",
    "    description,\n",
    "    architectures,\n",
    "    memory_size,\n",
    "    runtime\n",
    "    FROM aws.lambda.function\n",
    "    WHERE region = '{function['region']}'\n",
    "    AND data__Identifier = '{function['function_name']}'\n",
    "    \"\"\"\n",
    "    for function in functions_list\n",
    "]\n",
    "\n",
    "function_details_df = await stackql.executeQueriesAsync(get_fns_details)\n",
    "function_details_df"
   ]
  }
 ],
 "metadata": {
  "kernelspec": {
   "display_name": "Python 3.10.0 64-bit",
   "language": "python",
   "name": "python3"
  },
  "language_info": {
   "name": "python",
   "version": "3.10.0"
  },
  "orig_nbformat": 4,
  "vscode": {
   "interpreter": {
    "hash": "369f2c481f4da34e4445cda3fffd2e751bd1c4d706f27375911949ba6bb62e1c"
   }
  }
 },
 "nbformat": 4,
 "nbformat_minor": 2
}
