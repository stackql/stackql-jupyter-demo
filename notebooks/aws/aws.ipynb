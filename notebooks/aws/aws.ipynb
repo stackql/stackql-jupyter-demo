{
 "cells": [
  {
   "cell_type": "code",
   "execution_count": null,
   "metadata": {},
   "outputs": [],
   "source": [
    "%load_ext pystackql.magics"
   ]
  },
  {
   "cell_type": "code",
   "execution_count": null,
   "metadata": {},
   "outputs": [],
   "source": [
    "regions = \"'ap-southeast-2', 'us-east-1'\"\n",
    "region = 'ap-southeast-2'"
   ]
  },
  {
   "cell_type": "code",
   "execution_count": null,
   "metadata": {},
   "outputs": [],
   "source": [
    "%%stackql\n",
    "SELECT \n",
    "state, \n",
    "count(*) as num_instances\n",
    "FROM aws.ec2.instances \n",
    "WHERE region IN ($regions)\n",
    "GROUP BY state"
   ]
  },
  {
   "cell_type": "code",
   "execution_count": null,
   "metadata": {},
   "outputs": [],
   "source": [
    "_.plot(kind='bar', title='Instances by State', x='state', y='num_instances')"
   ]
  },
  {
   "cell_type": "code",
   "execution_count": null,
   "metadata": {},
   "outputs": [],
   "source": [
    "%%stackql\n",
    "SELECT region, instanceType, COUNT(*) as num_instances\n",
    "FROM aws.ec2.instances\n",
    "WHERE region IN ($regions)\n",
    "GROUP BY instanceType"
   ]
  },
  {
   "cell_type": "code",
   "execution_count": null,
   "metadata": {},
   "outputs": [],
   "source": [
    "_.plot(kind='pie', y='num_instances', labels=_['instanceType'], title='Instances by Type', autopct='%1.1f%%')"
   ]
  },
  {
   "cell_type": "code",
   "execution_count": null,
   "metadata": {},
   "outputs": [],
   "source": [
    "%%stackql\n",
    "CREATE MATERIALIZED VIEW vw_ec2_instance_types AS\n",
    "SELECT \n",
    "memoryInfo,\n",
    "hypervisor,\n",
    "autoRecoverySupported,\n",
    "instanceType,\n",
    "SPLIT_PART(processorInfo, '\\n', 3) as processorArch,\n",
    "currentGeneration,\n",
    "freeTierEligible,\n",
    "hibernationSupported,\n",
    "SPLIT_PART(vCpuInfo, '\\n', 2) as vCPUs,\n",
    "bareMetal,\n",
    "burstablePerformanceSupported,\n",
    "dedicatedHostsSupported\n",
    "FROM aws.ec2.instance_types\n",
    "WHERE region = '$region'"
   ]
  },
  {
   "cell_type": "code",
   "execution_count": null,
   "metadata": {},
   "outputs": [],
   "source": [
    "%%stackql\n",
    "select PolicyName, Arn from aws.iam.policies where region = '$region'"
   ]
  },
  {
   "cell_type": "code",
   "execution_count": null,
   "metadata": {},
   "outputs": [],
   "source": [
    "%%stackql\n",
    "SELECT region, function_name\n",
    "FROM aws.lambda.functions\n",
    "WHERE region IN (\n",
    "'us-east-1',\n",
    "'us-east-2',\n",
    "'us-west-1',\n",
    "'us-west-2',\n",
    "'ap-south-1',\n",
    "'ap-northeast-3',\n",
    "'ap-northeast-2',\n",
    "'ap-southeast-1',\n",
    "'ap-southeast-2',\n",
    "'ap-northeast-1',\n",
    "'ca-central-1',\n",
    "'eu-central-1',\n",
    "'eu-west-1',\n",
    "'eu-west-2',\n",
    "'eu-west-3',\n",
    "'eu-north-1',\n",
    "'sa-east-1')"
   ]
  },
  {
   "cell_type": "code",
   "execution_count": null,
   "metadata": {},
   "outputs": [],
   "source": [
    "functions_list = _.to_dict(orient='records')"
   ]
  },
  {
   "cell_type": "code",
   "execution_count": null,
   "metadata": {},
   "outputs": [],
   "source": [
    "from pystackql import StackQL\n",
    "stackql = StackQL(download_dir='/srv/stackql', app_root='/jupyter/.stackql', output='pandas')\n",
    "stackql.executeStmt(\"REGISTRY PULL aws\")"
   ]
  },
  {
   "cell_type": "code",
   "execution_count": null,
   "metadata": {},
   "outputs": [],
   "source": [
    "# get all functions across all regions asynchronously using pystackql\n",
    "import nest_asyncio\n",
    "nest_asyncio.apply()\n",
    "get_fns_details = [\n",
    "    f'''\n",
    "    SELECT \n",
    "    function_name,\n",
    "    region,\n",
    "    arn,\n",
    "    description,\n",
    "    architectures,\n",
    "    memory_size,\n",
    "    runtime\n",
    "    FROM aws.lambda.function\n",
    "    WHERE region = '{function['region']}'\n",
    "    AND data__Identifier = '{function['function_name']}'\n",
    "    '''\n",
    "    for function in functions_list\n",
    "]\n",
    "function_details_df = await stackql.executeQueriesAsync(get_fns_details)\n",
    "function_details_df"
   ]
  },
  {
   "cell_type": "code",
   "execution_count": null,
   "metadata": {},
   "outputs": [],
   "source": []
  }
 ],
 "metadata": {
  "kernelspec": {
   "display_name": "Python 3.10.0 64-bit",
   "language": "python",
   "name": "python3"
  },
  "language_info": {
   "name": "python",
   "version": "3.10.0"
  },
  "orig_nbformat": 4,
  "vscode": {
   "interpreter": {
    "hash": "369f2c481f4da34e4445cda3fffd2e751bd1c4d706f27375911949ba6bb62e1c"
   }
  }
 },
 "nbformat": 4,
 "nbformat_minor": 2
}
