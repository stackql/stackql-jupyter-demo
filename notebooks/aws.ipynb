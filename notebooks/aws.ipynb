{
 "cells": [
  {
   "cell_type": "code",
   "execution_count": null,
   "metadata": {},
   "outputs": [],
   "source": [
    "%load_ext ext.stackql"
   ]
  },
  {
   "cell_type": "code",
   "execution_count": null,
   "metadata": {},
   "outputs": [],
   "source": [
    "region = 'us-east-1'"
   ]
  },
  {
   "cell_type": "code",
   "execution_count": null,
   "metadata": {},
   "outputs": [],
   "source": [
    "%%stackql\n",
    "SELECT \n",
    "split_part(instanceState, '\\n', 3) as instanceState, \n",
    "count(*) as num_instances\n",
    "FROM aws.ec2.instances \n",
    "WHERE region = '$region' \n",
    "GROUP BY split_part(instanceState, '\\n', 3)"
   ]
  },
  {
   "cell_type": "code",
   "execution_count": null,
   "metadata": {},
   "outputs": [],
   "source": [
    "_.plot(kind='bar', title='Instances by State', x='instanceState', y='num_instances')"
   ]
  },
  {
   "cell_type": "code",
   "execution_count": null,
   "metadata": {},
   "outputs": [],
   "source": [
    "%%stackql\n",
    "SELECT instanceType, COUNT(*) as num_instances \n",
    "FROM aws.ec2.instances\n",
    "WHERE region = '$region'\n",
    "GROUP BY instanceType"
   ]
  },
  {
   "cell_type": "code",
   "execution_count": null,
   "metadata": {},
   "outputs": [],
   "source": [
    "_.plot(kind='pie', y='num_instances', labels=_['instanceType'], title='Instances by Type', autopct='%1.1f%%')"
   ]
  },
  {
   "cell_type": "code",
   "execution_count": null,
   "metadata": {},
   "outputs": [],
   "source": [
    "# get multiple regions asynchronously\n",
    "import nest_asyncio, json\n",
    "nest_asyncio.apply()\n",
    "from pystackql import StackQL\n",
    "import pandas as pd\n",
    "\n",
    "stackql = StackQL()\n",
    "\n",
    "regions = [\"ap-southeast-2\", \"us-east-1\"]\n",
    "\n",
    "queries = [\n",
    "    f\"\"\"\n",
    "    SELECT '{region}' as region, instanceType, COUNT(*) as num_instances\n",
    "    FROM aws.ec2.instances\n",
    "    WHERE region = '{region}'\n",
    "    GROUP BY instanceType\n",
    "    \"\"\"\n",
    "    for region in regions\n",
    "]\n",
    "\n",
    "res = stackql.executeQueriesAsync(queries)\n",
    "instances_df = pd.read_json(json.dumps(res))"
   ]
  }
 ],
 "metadata": {
  "kernelspec": {
   "display_name": "Python 3.10.0 64-bit",
   "language": "python",
   "name": "python3"
  },
  "language_info": {
   "name": "python",
   "version": "3.10.0"
  },
  "orig_nbformat": 4,
  "vscode": {
   "interpreter": {
    "hash": "369f2c481f4da34e4445cda3fffd2e751bd1c4d706f27375911949ba6bb62e1c"
   }
  }
 },
 "nbformat": 4,
 "nbformat_minor": 2
}
