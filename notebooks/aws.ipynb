{
 "cells": [
  {
   "cell_type": "code",
   "execution_count": null,
   "metadata": {},
   "outputs": [],
   "source": [
    "%load_ext ext.stackql"
   ]
  },
  {
   "cell_type": "code",
   "execution_count": null,
   "metadata": {},
   "outputs": [],
   "source": [
    "region = 'ap-southeast-2'"
   ]
  },
  {
   "cell_type": "code",
   "execution_count": null,
   "metadata": {},
   "outputs": [],
   "source": [
    "%stackql DESCRIBE aws.ec2.instances"
   ]
  },
  {
   "cell_type": "code",
   "execution_count": null,
   "metadata": {},
   "outputs": [],
   "source": [
    "%%stackql\n",
    "SELECT instanceState, COUNT(*) as num_instances FROM aws.ec2.instances WHERE region = '$region' GROUP BY instanceState"
   ]
  },
  {
   "cell_type": "code",
   "execution_count": null,
   "metadata": {},
   "outputs": [],
   "source": [
    "%%stackql\n",
    "SELECT * FROM aws.cloud_control.resources WHERE region = '$region' and data__TypeName = 'AWS::S3::Bucket' and data__Identifier = 'stackql-trial-bucket-01'"
   ]
  },
  {
   "cell_type": "code",
   "execution_count": null,
   "metadata": {},
   "outputs": [],
   "source": [
    "%%stackql\n",
    "SELECT \n",
    "JSON_EXTRACT(Properties, '$$.Arn') as Arn,\n",
    "JSON_EXTRACT(Properties, '$$.BucketName') as BucketName,\n",
    "JSON_EXTRACT(Properties, '$$.DomainName') as DomainName,\n",
    "JSON_EXTRACT(Properties, '$$.RegionalDomainName') as RegionalDomainName,\n",
    "JSON_EXTRACT(Properties, '$$.DualStackDomainName') as DualStackDomainName,\n",
    "JSON_EXTRACT(Properties, '$$.WebsiteURL') as WebsiteURL,\n",
    "JSON_EXTRACT(Properties, '$$.OwnershipControls.Rules[0].ObjectOwnership') as ObjectOwnership,\n",
    "IIF(JSON_EXTRACT(Properties, '$$.PublicAccessBlockConfiguration.RestrictPublicBuckets') = 0, 'false', 'true') as RestrictPublicBuckets,\n",
    "IIF(JSON_EXTRACT(Properties, '$$.PublicAccessBlockConfiguration.BlockPublicPolicy') = 0, 'false', 'true') as BlockPublicPolicy,\n",
    "IIF(JSON_EXTRACT(Properties, '$$.PublicAccessBlockConfiguration.BlockPublicAcls') = 0, 'false', 'true') as BlockPublicAcls,\n",
    "IIF(JSON_EXTRACT(Properties, '$$.PublicAccessBlockConfiguration.IgnorePublicAcls') = 0, 'false', 'true') as IgnorePublicAcls,\n",
    "JSON_EXTRACT(Properties, '$$.Tags') as Tags\n",
    "FROM aws.cloud_control.resources WHERE region = '$region' and data__TypeName = 'AWS::S3::Bucket' and data__Identifier = 'stackql-trial-bucket-01'"
   ]
  },
  {
   "cell_type": "code",
   "execution_count": null,
   "metadata": {},
   "outputs": [],
   "source": [
    "%%stackql\n",
    "SELECT * FROM aws.cloud_control.resources WHERE region = '$region' and data__TypeName = 'AWS::S3::Bucket'"
   ]
  }
 ],
 "metadata": {
  "kernelspec": {
   "display_name": "Python 3.10.0 64-bit",
   "language": "python",
   "name": "python3"
  },
  "language_info": {
   "name": "python",
   "version": "3.10.0"
  },
  "orig_nbformat": 4,
  "vscode": {
   "interpreter": {
    "hash": "369f2c481f4da34e4445cda3fffd2e751bd1c4d706f27375911949ba6bb62e1c"
   }
  }
 },
 "nbformat": 4,
 "nbformat_minor": 2
}
