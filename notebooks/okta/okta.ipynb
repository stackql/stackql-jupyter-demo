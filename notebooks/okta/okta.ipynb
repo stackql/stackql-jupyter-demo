{
 "cells": [
  {
   "cell_type": "code",
   "execution_count": null,
   "metadata": {},
   "outputs": [],
   "source": [
    "%load_ext pystackql"
   ]
  },
  {
   "cell_type": "code",
   "execution_count": null,
   "metadata": {},
   "outputs": [],
   "source": [
    "subdomain = 'dev-72290228'"
   ]
  },
  {
   "cell_type": "code",
   "execution_count": null,
   "metadata": {},
   "outputs": [],
   "source": [
    "%stackql SHOW SERVICES IN okta"
   ]
  },
  {
   "cell_type": "code",
   "execution_count": null,
   "metadata": {},
   "outputs": [],
   "source": [
    "%%stackql\n",
    "SELECT id,\n",
    "JSON_EXTRACT(credentials, '$$.emails[0].status') as email_status,\n",
    "JSON_EXTRACT(credentials, '$$.emails[0].value') as email,\n",
    "status\n",
    "FROM okta.user.users \n",
    "WHERE subdomain = '$subdomain'"
   ]
  },
  {
   "cell_type": "code",
   "execution_count": null,
   "metadata": {},
   "outputs": [],
   "source": [
    "%%stackql\n",
    "SELECT status, COUNT(*) as num\n",
    "FROM okta.user.users \n",
    "WHERE subdomain = '$subdomain'\n",
    "GROUP BY status"
   ]
  },
  {
   "cell_type": "code",
   "execution_count": null,
   "metadata": {},
   "outputs": [],
   "source": [
    "_.plot(kind='bar', title='User Status', x='status', y='num')"
   ]
  },
  {
   "cell_type": "code",
   "execution_count": null,
   "metadata": {},
   "outputs": [],
   "source": [
    "%%stackql\n",
    "SELECT \n",
    "JSON_EXTRACT(u.profile, '$$.email') as author_email,\n",
    "c.sha as commit_sha, \n",
    "DATE(JSON_EXTRACT(c.commit, '$$.author.date')) as commit_date,\n",
    "u.id as okta_id,\n",
    "u.status as okta_status\n",
    "FROM github.repos.commits c\n",
    "INNER JOIN okta.user.users u\n",
    "ON \n",
    "JSON_EXTRACT(c.commit, '$$.author.email') = JSON_EXTRACT(u.profile, '$$.email')\n",
    "WHERE c.owner='stackql' \n",
    "AND c.repo= 'openapi-doc-util'\n",
    "AND u.subdomain = '$subdomain'"
   ]
  }
 ],
 "metadata": {
  "kernelspec": {
   "display_name": "Python 3.10.0 64-bit",
   "language": "python",
   "name": "python3"
  },
  "language_info": {
   "name": "python",
   "version": "3.10.0 (tags/v3.10.0:b494f59, Oct  4 2021, 19:00:18) [MSC v.1929 64 bit (AMD64)]"
  },
  "orig_nbformat": 4,
  "vscode": {
   "interpreter": {
    "hash": "369f2c481f4da34e4445cda3fffd2e751bd1c4d706f27375911949ba6bb62e1c"
   }
  }
 },
 "nbformat": 4,
 "nbformat_minor": 2
}
