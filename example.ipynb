{
 "cells": [
  {
   "cell_type": "code",
   "execution_count": null,
   "id": "18459691",
   "metadata": {},
   "outputs": [],
   "source": [
    "%env OKTA_SECRET_KEY=yourapikey"
   ]
  },
  {
   "cell_type": "code",
   "execution_count": null,
   "id": "5f4d2d85",
   "metadata": {},
   "outputs": [],
   "source": [
    "auth = { \n",
    "        \"google\": { \n",
    "        \"keyfilepath\": \"/keys/infraql-demo.json\",  \n",
    "        \"keyfiletype\": \"serviceaccount\" \n",
    "        }, \n",
    "        \"okta\": { \n",
    "        \"keyenvvar\": \"OKTA_SECRET_KEY\",  \n",
    "        \"keyfiletype\": \"api_key\" \n",
    "        } \n",
    "       }"
   ]
  },
  {
   "cell_type": "code",
   "execution_count": null,
   "id": "c3c2fed4",
   "metadata": {},
   "outputs": [],
   "source": [
    "import json, pandas as pd\n",
    "from pystackql import StackQL\n",
    "iql = StackQL(auth=json.dumps(auth))"
   ]
  },
  {
   "cell_type": "code",
   "execution_count": null,
   "id": "c891981d",
   "metadata": {},
   "outputs": [],
   "source": [
    "iql_query = \"\"\"\n",
    "SELECT id, name \n",
    "FROM google.compute.instances \n",
    "WHERE project = 'infraql-demo' \n",
    "AND zone = 'australia-southeast1-a'\n",
    "\"\"\""
   ]
  },
  {
   "cell_type": "code",
   "execution_count": null,
   "id": "50fb43ea",
   "metadata": {},
   "outputs": [],
   "source": [
    "pd.read_json(iql.execute(iql_query))"
   ]
  },
  {
   "cell_type": "code",
   "execution_count": null,
   "id": "0f864f31",
   "metadata": {},
   "outputs": [],
   "source": [
    "iql_query = \"\"\"\n",
    "SELECT id, \n",
    "JSON_EXTRACT(credentials, '$.emails[0].status') as status \n",
    "FROM okta.user.users \n",
    "WHERE subdomain = 'dev-72290228'\n",
    "\"\"\""
   ]
  },
  {
   "cell_type": "code",
   "execution_count": null,
   "id": "f0533dcb",
   "metadata": {},
   "outputs": [],
   "source": [
    "pd.read_json(iql.execute(iql_query))"
   ]
  }
 ],
 "metadata": {
  "kernelspec": {
   "display_name": "Python 3",
   "language": "python",
   "name": "python3"
  },
  "language_info": {
   "codemirror_mode": {
    "name": "ipython",
    "version": 3
   },
   "file_extension": ".py",
   "mimetype": "text/x-python",
   "name": "python",
   "nbconvert_exporter": "python",
   "pygments_lexer": "ipython3",
   "version": "3.9.2"
  }
 },
 "nbformat": 4,
 "nbformat_minor": 5
}
