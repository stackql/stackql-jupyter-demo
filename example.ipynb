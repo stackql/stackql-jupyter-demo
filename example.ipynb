{
 "cells": [
  {
   "cell_type": "code",
   "execution_count": null,
   "id": "5f4d2d85",
   "metadata": {},
   "outputs": [],
   "source": [
    "auth = { \n",
    "        \"okta\": { \n",
    "        \"credentialsenvvar\": \"OKTA_SECRET_KEY\",  \n",
    "        \"type\": \"api_key\" \n",
    "        } \n",
    "       }"
   ]
  },
  {
   "cell_type": "code",
   "execution_count": null,
   "id": "c3c2fed4",
   "metadata": {},
   "outputs": [],
   "source": [
    "import json, pandas as pd\n",
    "from pystackql import StackQL\n",
    "iql = StackQL(auth=json.dumps(auth))"
   ]
  },
  {
   "cell_type": "code",
   "execution_count": null,
   "id": "3bd9631e",
   "metadata": {},
   "outputs": [],
   "source": [
    "iql.executeStmt(\"REGISTRY PULL okta v0.1.0\")"
   ]
  },
  {
   "cell_type": "code",
   "execution_count": null,
   "id": "0f864f31",
   "metadata": {},
   "outputs": [],
   "source": [
    "iql_query = \"\"\"\n",
    "SELECT id,\n",
    "JSON_EXTRACT(credentials, '$.emails[0].status') as email_status,\n",
    "JSON_EXTRACT(credentials, '$.emails[0].value') as email,\n",
    "status\n",
    "FROM okta.user.users \n",
    "WHERE subdomain = 'dev-72290228'\n",
    "\"\"\""
   ]
  },
  {
   "cell_type": "code",
   "execution_count": null,
   "id": "f0533dcb",
   "metadata": {},
   "outputs": [],
   "source": [
    "pd.read_json(iql.execute(iql_query))"
   ]
  },
  {
   "cell_type": "code",
   "execution_count": null,
   "id": "4e74c1cc",
   "metadata": {},
   "outputs": [],
   "source": [
    "iql_query = \"\"\"\n",
    "SELECT status, COUNT(*) as num\n",
    "FROM okta.user.users \n",
    "WHERE subdomain = 'dev-72290228'\n",
    "GROUP BY status\n",
    "\"\"\""
   ]
  },
  {
   "cell_type": "code",
   "execution_count": null,
   "id": "89847abf",
   "metadata": {},
   "outputs": [],
   "source": [
    "pd.read_json(iql.execute(iql_query)).plot(kind='bar', title='User Status', x='status', y='num')"
   ]
  }
 ],
 "metadata": {
  "kernelspec": {
   "display_name": "Python 3",
   "language": "python",
   "name": "python3"
  },
  "language_info": {
   "codemirror_mode": {
    "name": "ipython",
    "version": 3
   },
   "file_extension": ".py",
   "mimetype": "text/x-python",
   "name": "python",
   "nbconvert_exporter": "python",
   "pygments_lexer": "ipython3",
   "version": "3.9.2"
  }
 },
 "nbformat": 4,
 "nbformat_minor": 5
}
